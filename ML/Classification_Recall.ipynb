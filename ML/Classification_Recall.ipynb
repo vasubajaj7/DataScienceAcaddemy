{
  "cells": [
    {
      "cell_type": "markdown",
      "metadata": {
        "id": "view-in-github",
        "colab_type": "text"
      },
      "source": [
        "<a href=\"https://colab.research.google.com/github/vasubajaj7/DataScienceAcaddemy/blob/main/ML/Classification_Recall.ipynb\" target=\"_parent\"><img src=\"https://colab.research.google.com/assets/colab-badge.svg\" alt=\"Open In Colab\"/></a>"
      ]
    },
    {
      "cell_type": "code",
      "source": [
        "from google.colab import drive\n",
        "drive.mount('/content/drive')"
      ],
      "metadata": {
        "colab": {
          "base_uri": "https://localhost:8080/"
        },
        "id": "NU2yblSxz60q",
        "outputId": "9092f8c1-e70b-4b22-b41c-62fa52c9ea8c"
      },
      "id": "NU2yblSxz60q",
      "execution_count": 77,
      "outputs": [
        {
          "output_type": "stream",
          "name": "stdout",
          "text": [
            "Drive already mounted at /content/drive; to attempt to forcibly remount, call drive.mount(\"/content/drive\", force_remount=True).\n"
          ]
        }
      ]
    },
    {
      "cell_type": "code",
      "source": [
        "# Supress Warnings\n",
        "\n",
        "import warnings\n",
        "warnings.filterwarnings('ignore')"
      ],
      "metadata": {
        "id": "U2_OrAhr0chQ"
      },
      "id": "U2_OrAhr0chQ",
      "execution_count": 78,
      "outputs": []
    },
    {
      "cell_type": "code",
      "execution_count": 79,
      "id": "2ef5e0b6",
      "metadata": {
        "execution": {
          "iopub.execute_input": "2023-01-21T21:02:05.727298Z",
          "iopub.status.busy": "2023-01-21T21:02:05.726694Z",
          "iopub.status.idle": "2023-01-21T21:02:07.040134Z",
          "shell.execute_reply": "2023-01-21T21:02:07.039143Z"
        },
        "id": "2ef5e0b6",
        "papermill": {
          "duration": 1.33643,
          "end_time": "2023-01-21T21:02:07.042907",
          "exception": false,
          "start_time": "2023-01-21T21:02:05.706477",
          "status": "completed"
        },
        "tags": []
      },
      "outputs": [],
      "source": [
        "import pandas as pd\n",
        "import numpy as np\n",
        "import seaborn as sns\n",
        "import matplotlib.pyplot as plt\n",
        "from sklearn.impute import KNNImputer\n",
        "from sklearn.preprocessing import StandardScaler\n",
        "from sklearn.model_selection import cross_val_score , train_test_split , RandomizedSearchCV , GridSearchCV\n",
        "from sklearn.metrics import classification_report\n",
        "from scipy import stats"
      ]
    },
    {
      "cell_type": "code",
      "source": [
        "# Reading the data dictionary file\n",
        "\n",
        "data_dict = pd.read_csv('/content/drive/MyDrive/data/pima_indian_diabetes_data_dictionary.csv')\n",
        "data_dict.head(10)"
      ],
      "metadata": {
        "colab": {
          "base_uri": "https://localhost:8080/",
          "height": 269
        },
        "id": "EHTSoDrg0iC3",
        "outputId": "246a073c-221b-4b19-b705-88b1daa41b1f"
      },
      "id": "EHTSoDrg0iC3",
      "execution_count": 6,
      "outputs": [
        {
          "output_type": "execute_result",
          "data": {
            "text/plain": [
              "  No_Times_Pregnant                           Number of times pregnant\n",
              "0    Plasma_Glucose  Plasma glucose concentration after 2 hours in ...\n",
              "1      Diastolic_BP                   Diastolic blood pressure (mm Hg)\n",
              "2           Triceps                   Triceps skin fold thickness (mm)\n",
              "3           Insulin                     2-Hour serum insulin (mu U/ml)\n",
              "4               BMI     Body mass index (weight in kg/(height in m)^2)\n",
              "5               Age                                        Age (years)\n",
              "6          Diabetes                            Class variable (0 or 1)"
            ],
            "text/html": [
              "\n",
              "  <div id=\"df-50ab0c4b-aa45-424c-8dfe-8c13adb15ad9\">\n",
              "    <div class=\"colab-df-container\">\n",
              "      <div>\n",
              "<style scoped>\n",
              "    .dataframe tbody tr th:only-of-type {\n",
              "        vertical-align: middle;\n",
              "    }\n",
              "\n",
              "    .dataframe tbody tr th {\n",
              "        vertical-align: top;\n",
              "    }\n",
              "\n",
              "    .dataframe thead th {\n",
              "        text-align: right;\n",
              "    }\n",
              "</style>\n",
              "<table border=\"1\" class=\"dataframe\">\n",
              "  <thead>\n",
              "    <tr style=\"text-align: right;\">\n",
              "      <th></th>\n",
              "      <th>No_Times_Pregnant</th>\n",
              "      <th>Number of times pregnant</th>\n",
              "    </tr>\n",
              "  </thead>\n",
              "  <tbody>\n",
              "    <tr>\n",
              "      <th>0</th>\n",
              "      <td>Plasma_Glucose</td>\n",
              "      <td>Plasma glucose concentration after 2 hours in ...</td>\n",
              "    </tr>\n",
              "    <tr>\n",
              "      <th>1</th>\n",
              "      <td>Diastolic_BP</td>\n",
              "      <td>Diastolic blood pressure (mm Hg)</td>\n",
              "    </tr>\n",
              "    <tr>\n",
              "      <th>2</th>\n",
              "      <td>Triceps</td>\n",
              "      <td>Triceps skin fold thickness (mm)</td>\n",
              "    </tr>\n",
              "    <tr>\n",
              "      <th>3</th>\n",
              "      <td>Insulin</td>\n",
              "      <td>2-Hour serum insulin (mu U/ml)</td>\n",
              "    </tr>\n",
              "    <tr>\n",
              "      <th>4</th>\n",
              "      <td>BMI</td>\n",
              "      <td>Body mass index (weight in kg/(height in m)^2)</td>\n",
              "    </tr>\n",
              "    <tr>\n",
              "      <th>5</th>\n",
              "      <td>Age</td>\n",
              "      <td>Age (years)</td>\n",
              "    </tr>\n",
              "    <tr>\n",
              "      <th>6</th>\n",
              "      <td>Diabetes</td>\n",
              "      <td>Class variable (0 or 1)</td>\n",
              "    </tr>\n",
              "  </tbody>\n",
              "</table>\n",
              "</div>\n",
              "      <button class=\"colab-df-convert\" onclick=\"convertToInteractive('df-50ab0c4b-aa45-424c-8dfe-8c13adb15ad9')\"\n",
              "              title=\"Convert this dataframe to an interactive table.\"\n",
              "              style=\"display:none;\">\n",
              "        \n",
              "  <svg xmlns=\"http://www.w3.org/2000/svg\" height=\"24px\"viewBox=\"0 0 24 24\"\n",
              "       width=\"24px\">\n",
              "    <path d=\"M0 0h24v24H0V0z\" fill=\"none\"/>\n",
              "    <path d=\"M18.56 5.44l.94 2.06.94-2.06 2.06-.94-2.06-.94-.94-2.06-.94 2.06-2.06.94zm-11 1L8.5 8.5l.94-2.06 2.06-.94-2.06-.94L8.5 2.5l-.94 2.06-2.06.94zm10 10l.94 2.06.94-2.06 2.06-.94-2.06-.94-.94-2.06-.94 2.06-2.06.94z\"/><path d=\"M17.41 7.96l-1.37-1.37c-.4-.4-.92-.59-1.43-.59-.52 0-1.04.2-1.43.59L10.3 9.45l-7.72 7.72c-.78.78-.78 2.05 0 2.83L4 21.41c.39.39.9.59 1.41.59.51 0 1.02-.2 1.41-.59l7.78-7.78 2.81-2.81c.8-.78.8-2.07 0-2.86zM5.41 20L4 18.59l7.72-7.72 1.47 1.35L5.41 20z\"/>\n",
              "  </svg>\n",
              "      </button>\n",
              "      \n",
              "  <style>\n",
              "    .colab-df-container {\n",
              "      display:flex;\n",
              "      flex-wrap:wrap;\n",
              "      gap: 12px;\n",
              "    }\n",
              "\n",
              "    .colab-df-convert {\n",
              "      background-color: #E8F0FE;\n",
              "      border: none;\n",
              "      border-radius: 50%;\n",
              "      cursor: pointer;\n",
              "      display: none;\n",
              "      fill: #1967D2;\n",
              "      height: 32px;\n",
              "      padding: 0 0 0 0;\n",
              "      width: 32px;\n",
              "    }\n",
              "\n",
              "    .colab-df-convert:hover {\n",
              "      background-color: #E2EBFA;\n",
              "      box-shadow: 0px 1px 2px rgba(60, 64, 67, 0.3), 0px 1px 3px 1px rgba(60, 64, 67, 0.15);\n",
              "      fill: #174EA6;\n",
              "    }\n",
              "\n",
              "    [theme=dark] .colab-df-convert {\n",
              "      background-color: #3B4455;\n",
              "      fill: #D2E3FC;\n",
              "    }\n",
              "\n",
              "    [theme=dark] .colab-df-convert:hover {\n",
              "      background-color: #434B5C;\n",
              "      box-shadow: 0px 1px 3px 1px rgba(0, 0, 0, 0.15);\n",
              "      filter: drop-shadow(0px 1px 2px rgba(0, 0, 0, 0.3));\n",
              "      fill: #FFFFFF;\n",
              "    }\n",
              "  </style>\n",
              "\n",
              "      <script>\n",
              "        const buttonEl =\n",
              "          document.querySelector('#df-50ab0c4b-aa45-424c-8dfe-8c13adb15ad9 button.colab-df-convert');\n",
              "        buttonEl.style.display =\n",
              "          google.colab.kernel.accessAllowed ? 'block' : 'none';\n",
              "\n",
              "        async function convertToInteractive(key) {\n",
              "          const element = document.querySelector('#df-50ab0c4b-aa45-424c-8dfe-8c13adb15ad9');\n",
              "          const dataTable =\n",
              "            await google.colab.kernel.invokeFunction('convertToInteractive',\n",
              "                                                     [key], {});\n",
              "          if (!dataTable) return;\n",
              "\n",
              "          const docLinkHtml = 'Like what you see? Visit the ' +\n",
              "            '<a target=\"_blank\" href=https://colab.research.google.com/notebooks/data_table.ipynb>data table notebook</a>'\n",
              "            + ' to learn more about interactive tables.';\n",
              "          element.innerHTML = '';\n",
              "          dataTable['output_type'] = 'display_data';\n",
              "          await google.colab.output.renderOutput(dataTable, element);\n",
              "          const docLink = document.createElement('div');\n",
              "          docLink.innerHTML = docLinkHtml;\n",
              "          element.appendChild(docLink);\n",
              "        }\n",
              "      </script>\n",
              "    </div>\n",
              "  </div>\n",
              "  "
            ]
          },
          "metadata": {},
          "execution_count": 6
        }
      ]
    },
    {
      "cell_type": "code",
      "execution_count": 80,
      "id": "955bc06e",
      "metadata": {
        "execution": {
          "iopub.execute_input": "2023-01-21T21:02:07.078956Z",
          "iopub.status.busy": "2023-01-21T21:02:07.078534Z",
          "iopub.status.idle": "2023-01-21T21:02:07.098218Z",
          "shell.execute_reply": "2023-01-21T21:02:07.097051Z"
        },
        "id": "955bc06e",
        "papermill": {
          "duration": 0.040488,
          "end_time": "2023-01-21T21:02:07.100806",
          "exception": false,
          "start_time": "2023-01-21T21:02:07.060318",
          "status": "completed"
        },
        "tags": []
      },
      "outputs": [],
      "source": [
        "\n",
        "data = pd.read_csv('/content/drive/MyDrive/data/pima_indian_diabetes.csv')"
      ]
    },
    {
      "cell_type": "code",
      "execution_count": 81,
      "id": "e8d34769",
      "metadata": {
        "execution": {
          "iopub.execute_input": "2023-01-21T21:02:07.137121Z",
          "iopub.status.busy": "2023-01-21T21:02:07.136673Z",
          "iopub.status.idle": "2023-01-21T21:02:07.158382Z",
          "shell.execute_reply": "2023-01-21T21:02:07.157188Z"
        },
        "id": "e8d34769",
        "outputId": "f8fbfba3-eb4c-4bc2-81f8-1bd432ddbd51",
        "papermill": {
          "duration": 0.04353,
          "end_time": "2023-01-21T21:02:07.161535",
          "exception": false,
          "start_time": "2023-01-21T21:02:07.118005",
          "status": "completed"
        },
        "tags": [],
        "colab": {
          "base_uri": "https://localhost:8080/",
          "height": 206
        }
      },
      "outputs": [
        {
          "output_type": "execute_result",
          "data": {
            "text/plain": [
              "   No_Times_Pregnant  Plasma_Glucose  Diastolic_BP  Triceps  Insulin   BMI  \\\n",
              "0                  1              89            66       23       94  28.1   \n",
              "1                  0             137            40       35      168  43.1   \n",
              "2                  3              78            50       32       88  31.0   \n",
              "3                  2             197            70       45      543  30.5   \n",
              "4                  1             189            60       23      846  30.1   \n",
              "\n",
              "   Age  Diabetes  \n",
              "0   21         0  \n",
              "1   33         1  \n",
              "2   26         1  \n",
              "3   53         1  \n",
              "4   59         1  "
            ],
            "text/html": [
              "\n",
              "  <div id=\"df-dc36df56-90b6-4fa8-bf95-c661d7236c42\">\n",
              "    <div class=\"colab-df-container\">\n",
              "      <div>\n",
              "<style scoped>\n",
              "    .dataframe tbody tr th:only-of-type {\n",
              "        vertical-align: middle;\n",
              "    }\n",
              "\n",
              "    .dataframe tbody tr th {\n",
              "        vertical-align: top;\n",
              "    }\n",
              "\n",
              "    .dataframe thead th {\n",
              "        text-align: right;\n",
              "    }\n",
              "</style>\n",
              "<table border=\"1\" class=\"dataframe\">\n",
              "  <thead>\n",
              "    <tr style=\"text-align: right;\">\n",
              "      <th></th>\n",
              "      <th>No_Times_Pregnant</th>\n",
              "      <th>Plasma_Glucose</th>\n",
              "      <th>Diastolic_BP</th>\n",
              "      <th>Triceps</th>\n",
              "      <th>Insulin</th>\n",
              "      <th>BMI</th>\n",
              "      <th>Age</th>\n",
              "      <th>Diabetes</th>\n",
              "    </tr>\n",
              "  </thead>\n",
              "  <tbody>\n",
              "    <tr>\n",
              "      <th>0</th>\n",
              "      <td>1</td>\n",
              "      <td>89</td>\n",
              "      <td>66</td>\n",
              "      <td>23</td>\n",
              "      <td>94</td>\n",
              "      <td>28.1</td>\n",
              "      <td>21</td>\n",
              "      <td>0</td>\n",
              "    </tr>\n",
              "    <tr>\n",
              "      <th>1</th>\n",
              "      <td>0</td>\n",
              "      <td>137</td>\n",
              "      <td>40</td>\n",
              "      <td>35</td>\n",
              "      <td>168</td>\n",
              "      <td>43.1</td>\n",
              "      <td>33</td>\n",
              "      <td>1</td>\n",
              "    </tr>\n",
              "    <tr>\n",
              "      <th>2</th>\n",
              "      <td>3</td>\n",
              "      <td>78</td>\n",
              "      <td>50</td>\n",
              "      <td>32</td>\n",
              "      <td>88</td>\n",
              "      <td>31.0</td>\n",
              "      <td>26</td>\n",
              "      <td>1</td>\n",
              "    </tr>\n",
              "    <tr>\n",
              "      <th>3</th>\n",
              "      <td>2</td>\n",
              "      <td>197</td>\n",
              "      <td>70</td>\n",
              "      <td>45</td>\n",
              "      <td>543</td>\n",
              "      <td>30.5</td>\n",
              "      <td>53</td>\n",
              "      <td>1</td>\n",
              "    </tr>\n",
              "    <tr>\n",
              "      <th>4</th>\n",
              "      <td>1</td>\n",
              "      <td>189</td>\n",
              "      <td>60</td>\n",
              "      <td>23</td>\n",
              "      <td>846</td>\n",
              "      <td>30.1</td>\n",
              "      <td>59</td>\n",
              "      <td>1</td>\n",
              "    </tr>\n",
              "  </tbody>\n",
              "</table>\n",
              "</div>\n",
              "      <button class=\"colab-df-convert\" onclick=\"convertToInteractive('df-dc36df56-90b6-4fa8-bf95-c661d7236c42')\"\n",
              "              title=\"Convert this dataframe to an interactive table.\"\n",
              "              style=\"display:none;\">\n",
              "        \n",
              "  <svg xmlns=\"http://www.w3.org/2000/svg\" height=\"24px\"viewBox=\"0 0 24 24\"\n",
              "       width=\"24px\">\n",
              "    <path d=\"M0 0h24v24H0V0z\" fill=\"none\"/>\n",
              "    <path d=\"M18.56 5.44l.94 2.06.94-2.06 2.06-.94-2.06-.94-.94-2.06-.94 2.06-2.06.94zm-11 1L8.5 8.5l.94-2.06 2.06-.94-2.06-.94L8.5 2.5l-.94 2.06-2.06.94zm10 10l.94 2.06.94-2.06 2.06-.94-2.06-.94-.94-2.06-.94 2.06-2.06.94z\"/><path d=\"M17.41 7.96l-1.37-1.37c-.4-.4-.92-.59-1.43-.59-.52 0-1.04.2-1.43.59L10.3 9.45l-7.72 7.72c-.78.78-.78 2.05 0 2.83L4 21.41c.39.39.9.59 1.41.59.51 0 1.02-.2 1.41-.59l7.78-7.78 2.81-2.81c.8-.78.8-2.07 0-2.86zM5.41 20L4 18.59l7.72-7.72 1.47 1.35L5.41 20z\"/>\n",
              "  </svg>\n",
              "      </button>\n",
              "      \n",
              "  <style>\n",
              "    .colab-df-container {\n",
              "      display:flex;\n",
              "      flex-wrap:wrap;\n",
              "      gap: 12px;\n",
              "    }\n",
              "\n",
              "    .colab-df-convert {\n",
              "      background-color: #E8F0FE;\n",
              "      border: none;\n",
              "      border-radius: 50%;\n",
              "      cursor: pointer;\n",
              "      display: none;\n",
              "      fill: #1967D2;\n",
              "      height: 32px;\n",
              "      padding: 0 0 0 0;\n",
              "      width: 32px;\n",
              "    }\n",
              "\n",
              "    .colab-df-convert:hover {\n",
              "      background-color: #E2EBFA;\n",
              "      box-shadow: 0px 1px 2px rgba(60, 64, 67, 0.3), 0px 1px 3px 1px rgba(60, 64, 67, 0.15);\n",
              "      fill: #174EA6;\n",
              "    }\n",
              "\n",
              "    [theme=dark] .colab-df-convert {\n",
              "      background-color: #3B4455;\n",
              "      fill: #D2E3FC;\n",
              "    }\n",
              "\n",
              "    [theme=dark] .colab-df-convert:hover {\n",
              "      background-color: #434B5C;\n",
              "      box-shadow: 0px 1px 3px 1px rgba(0, 0, 0, 0.15);\n",
              "      filter: drop-shadow(0px 1px 2px rgba(0, 0, 0, 0.3));\n",
              "      fill: #FFFFFF;\n",
              "    }\n",
              "  </style>\n",
              "\n",
              "      <script>\n",
              "        const buttonEl =\n",
              "          document.querySelector('#df-dc36df56-90b6-4fa8-bf95-c661d7236c42 button.colab-df-convert');\n",
              "        buttonEl.style.display =\n",
              "          google.colab.kernel.accessAllowed ? 'block' : 'none';\n",
              "\n",
              "        async function convertToInteractive(key) {\n",
              "          const element = document.querySelector('#df-dc36df56-90b6-4fa8-bf95-c661d7236c42');\n",
              "          const dataTable =\n",
              "            await google.colab.kernel.invokeFunction('convertToInteractive',\n",
              "                                                     [key], {});\n",
              "          if (!dataTable) return;\n",
              "\n",
              "          const docLinkHtml = 'Like what you see? Visit the ' +\n",
              "            '<a target=\"_blank\" href=https://colab.research.google.com/notebooks/data_table.ipynb>data table notebook</a>'\n",
              "            + ' to learn more about interactive tables.';\n",
              "          element.innerHTML = '';\n",
              "          dataTable['output_type'] = 'display_data';\n",
              "          await google.colab.output.renderOutput(dataTable, element);\n",
              "          const docLink = document.createElement('div');\n",
              "          docLink.innerHTML = docLinkHtml;\n",
              "          element.appendChild(docLink);\n",
              "        }\n",
              "      </script>\n",
              "    </div>\n",
              "  </div>\n",
              "  "
            ]
          },
          "metadata": {},
          "execution_count": 81
        }
      ],
      "source": [
        "data.head()"
      ]
    },
    {
      "cell_type": "code",
      "execution_count": 9,
      "id": "bdc60be4",
      "metadata": {
        "execution": {
          "iopub.execute_input": "2023-01-21T21:02:07.198720Z",
          "iopub.status.busy": "2023-01-21T21:02:07.198315Z",
          "iopub.status.idle": "2023-01-21T21:02:07.207703Z",
          "shell.execute_reply": "2023-01-21T21:02:07.206623Z"
        },
        "id": "bdc60be4",
        "outputId": "a525ce1d-425c-4c68-bae4-dc40444b284c",
        "papermill": {
          "duration": 0.030398,
          "end_time": "2023-01-21T21:02:07.210200",
          "exception": false,
          "start_time": "2023-01-21T21:02:07.179802",
          "status": "completed"
        },
        "tags": [],
        "colab": {
          "base_uri": "https://localhost:8080/"
        }
      },
      "outputs": [
        {
          "output_type": "execute_result",
          "data": {
            "text/plain": [
              "No_Times_Pregnant    0\n",
              "Plasma_Glucose       0\n",
              "Diastolic_BP         0\n",
              "Triceps              0\n",
              "Insulin              0\n",
              "BMI                  0\n",
              "Age                  0\n",
              "Diabetes             0\n",
              "dtype: int64"
            ]
          },
          "metadata": {},
          "execution_count": 9
        }
      ],
      "source": [
        "data.isnull().sum()"
      ]
    },
    {
      "cell_type": "code",
      "execution_count": 10,
      "id": "e0dfa6dc",
      "metadata": {
        "execution": {
          "iopub.execute_input": "2023-01-21T21:02:07.246960Z",
          "iopub.status.busy": "2023-01-21T21:02:07.245959Z",
          "iopub.status.idle": "2023-01-21T21:02:07.270896Z",
          "shell.execute_reply": "2023-01-21T21:02:07.269666Z"
        },
        "id": "e0dfa6dc",
        "outputId": "0d22903e-b881-4a99-bb5a-7ef04c7a9add",
        "papermill": {
          "duration": 0.046512,
          "end_time": "2023-01-21T21:02:07.273822",
          "exception": false,
          "start_time": "2023-01-21T21:02:07.227310",
          "status": "completed"
        },
        "tags": [],
        "colab": {
          "base_uri": "https://localhost:8080/"
        }
      },
      "outputs": [
        {
          "output_type": "stream",
          "name": "stdout",
          "text": [
            "<class 'pandas.core.frame.DataFrame'>\n",
            "RangeIndex: 392 entries, 0 to 391\n",
            "Data columns (total 8 columns):\n",
            " #   Column             Non-Null Count  Dtype  \n",
            "---  ------             --------------  -----  \n",
            " 0   No_Times_Pregnant  392 non-null    int64  \n",
            " 1   Plasma_Glucose     392 non-null    int64  \n",
            " 2   Diastolic_BP       392 non-null    int64  \n",
            " 3   Triceps            392 non-null    int64  \n",
            " 4   Insulin            392 non-null    int64  \n",
            " 5   BMI                392 non-null    float64\n",
            " 6   Age                392 non-null    int64  \n",
            " 7   Diabetes           392 non-null    int64  \n",
            "dtypes: float64(1), int64(7)\n",
            "memory usage: 24.6 KB\n"
          ]
        }
      ],
      "source": [
        "data.info()"
      ]
    },
    {
      "cell_type": "code",
      "execution_count": 11,
      "id": "d428f489",
      "metadata": {
        "execution": {
          "iopub.execute_input": "2023-01-21T21:02:07.312068Z",
          "iopub.status.busy": "2023-01-21T21:02:07.311040Z",
          "iopub.status.idle": "2023-01-21T21:02:07.353557Z",
          "shell.execute_reply": "2023-01-21T21:02:07.352485Z"
        },
        "id": "d428f489",
        "outputId": "fc4d2b8a-709c-4767-9330-3c156af5a236",
        "papermill": {
          "duration": 0.063955,
          "end_time": "2023-01-21T21:02:07.356199",
          "exception": false,
          "start_time": "2023-01-21T21:02:07.292244",
          "status": "completed"
        },
        "tags": [],
        "colab": {
          "base_uri": "https://localhost:8080/",
          "height": 364
        }
      },
      "outputs": [
        {
          "output_type": "execute_result",
          "data": {
            "text/plain": [
              "       No_Times_Pregnant  Plasma_Glucose  Diastolic_BP     Triceps  \\\n",
              "count         392.000000      392.000000    392.000000  392.000000   \n",
              "mean            3.301020      122.627551     70.663265   29.145408   \n",
              "std             3.211424       30.860781     12.496092   10.516424   \n",
              "min             0.000000       56.000000     24.000000    7.000000   \n",
              "25%             1.000000       99.000000     62.000000   21.000000   \n",
              "50%             2.000000      119.000000     70.000000   29.000000   \n",
              "75%             5.000000      143.000000     78.000000   37.000000   \n",
              "max            17.000000      198.000000    110.000000   63.000000   \n",
              "\n",
              "          Insulin         BMI         Age    Diabetes  \n",
              "count  392.000000  392.000000  392.000000  392.000000  \n",
              "mean   156.056122   33.086224   30.864796    0.331633  \n",
              "std    118.841690    7.027659   10.200777    0.471401  \n",
              "min     14.000000   18.200000   21.000000    0.000000  \n",
              "25%     76.750000   28.400000   23.000000    0.000000  \n",
              "50%    125.500000   33.200000   27.000000    0.000000  \n",
              "75%    190.000000   37.100000   36.000000    1.000000  \n",
              "max    846.000000   67.100000   81.000000    1.000000  "
            ],
            "text/html": [
              "\n",
              "  <div id=\"df-c56c9d81-620c-4342-b6a4-400c2828b40e\">\n",
              "    <div class=\"colab-df-container\">\n",
              "      <div>\n",
              "<style scoped>\n",
              "    .dataframe tbody tr th:only-of-type {\n",
              "        vertical-align: middle;\n",
              "    }\n",
              "\n",
              "    .dataframe tbody tr th {\n",
              "        vertical-align: top;\n",
              "    }\n",
              "\n",
              "    .dataframe thead th {\n",
              "        text-align: right;\n",
              "    }\n",
              "</style>\n",
              "<table border=\"1\" class=\"dataframe\">\n",
              "  <thead>\n",
              "    <tr style=\"text-align: right;\">\n",
              "      <th></th>\n",
              "      <th>No_Times_Pregnant</th>\n",
              "      <th>Plasma_Glucose</th>\n",
              "      <th>Diastolic_BP</th>\n",
              "      <th>Triceps</th>\n",
              "      <th>Insulin</th>\n",
              "      <th>BMI</th>\n",
              "      <th>Age</th>\n",
              "      <th>Diabetes</th>\n",
              "    </tr>\n",
              "  </thead>\n",
              "  <tbody>\n",
              "    <tr>\n",
              "      <th>count</th>\n",
              "      <td>392.000000</td>\n",
              "      <td>392.000000</td>\n",
              "      <td>392.000000</td>\n",
              "      <td>392.000000</td>\n",
              "      <td>392.000000</td>\n",
              "      <td>392.000000</td>\n",
              "      <td>392.000000</td>\n",
              "      <td>392.000000</td>\n",
              "    </tr>\n",
              "    <tr>\n",
              "      <th>mean</th>\n",
              "      <td>3.301020</td>\n",
              "      <td>122.627551</td>\n",
              "      <td>70.663265</td>\n",
              "      <td>29.145408</td>\n",
              "      <td>156.056122</td>\n",
              "      <td>33.086224</td>\n",
              "      <td>30.864796</td>\n",
              "      <td>0.331633</td>\n",
              "    </tr>\n",
              "    <tr>\n",
              "      <th>std</th>\n",
              "      <td>3.211424</td>\n",
              "      <td>30.860781</td>\n",
              "      <td>12.496092</td>\n",
              "      <td>10.516424</td>\n",
              "      <td>118.841690</td>\n",
              "      <td>7.027659</td>\n",
              "      <td>10.200777</td>\n",
              "      <td>0.471401</td>\n",
              "    </tr>\n",
              "    <tr>\n",
              "      <th>min</th>\n",
              "      <td>0.000000</td>\n",
              "      <td>56.000000</td>\n",
              "      <td>24.000000</td>\n",
              "      <td>7.000000</td>\n",
              "      <td>14.000000</td>\n",
              "      <td>18.200000</td>\n",
              "      <td>21.000000</td>\n",
              "      <td>0.000000</td>\n",
              "    </tr>\n",
              "    <tr>\n",
              "      <th>25%</th>\n",
              "      <td>1.000000</td>\n",
              "      <td>99.000000</td>\n",
              "      <td>62.000000</td>\n",
              "      <td>21.000000</td>\n",
              "      <td>76.750000</td>\n",
              "      <td>28.400000</td>\n",
              "      <td>23.000000</td>\n",
              "      <td>0.000000</td>\n",
              "    </tr>\n",
              "    <tr>\n",
              "      <th>50%</th>\n",
              "      <td>2.000000</td>\n",
              "      <td>119.000000</td>\n",
              "      <td>70.000000</td>\n",
              "      <td>29.000000</td>\n",
              "      <td>125.500000</td>\n",
              "      <td>33.200000</td>\n",
              "      <td>27.000000</td>\n",
              "      <td>0.000000</td>\n",
              "    </tr>\n",
              "    <tr>\n",
              "      <th>75%</th>\n",
              "      <td>5.000000</td>\n",
              "      <td>143.000000</td>\n",
              "      <td>78.000000</td>\n",
              "      <td>37.000000</td>\n",
              "      <td>190.000000</td>\n",
              "      <td>37.100000</td>\n",
              "      <td>36.000000</td>\n",
              "      <td>1.000000</td>\n",
              "    </tr>\n",
              "    <tr>\n",
              "      <th>max</th>\n",
              "      <td>17.000000</td>\n",
              "      <td>198.000000</td>\n",
              "      <td>110.000000</td>\n",
              "      <td>63.000000</td>\n",
              "      <td>846.000000</td>\n",
              "      <td>67.100000</td>\n",
              "      <td>81.000000</td>\n",
              "      <td>1.000000</td>\n",
              "    </tr>\n",
              "  </tbody>\n",
              "</table>\n",
              "</div>\n",
              "      <button class=\"colab-df-convert\" onclick=\"convertToInteractive('df-c56c9d81-620c-4342-b6a4-400c2828b40e')\"\n",
              "              title=\"Convert this dataframe to an interactive table.\"\n",
              "              style=\"display:none;\">\n",
              "        \n",
              "  <svg xmlns=\"http://www.w3.org/2000/svg\" height=\"24px\"viewBox=\"0 0 24 24\"\n",
              "       width=\"24px\">\n",
              "    <path d=\"M0 0h24v24H0V0z\" fill=\"none\"/>\n",
              "    <path d=\"M18.56 5.44l.94 2.06.94-2.06 2.06-.94-2.06-.94-.94-2.06-.94 2.06-2.06.94zm-11 1L8.5 8.5l.94-2.06 2.06-.94-2.06-.94L8.5 2.5l-.94 2.06-2.06.94zm10 10l.94 2.06.94-2.06 2.06-.94-2.06-.94-.94-2.06-.94 2.06-2.06.94z\"/><path d=\"M17.41 7.96l-1.37-1.37c-.4-.4-.92-.59-1.43-.59-.52 0-1.04.2-1.43.59L10.3 9.45l-7.72 7.72c-.78.78-.78 2.05 0 2.83L4 21.41c.39.39.9.59 1.41.59.51 0 1.02-.2 1.41-.59l7.78-7.78 2.81-2.81c.8-.78.8-2.07 0-2.86zM5.41 20L4 18.59l7.72-7.72 1.47 1.35L5.41 20z\"/>\n",
              "  </svg>\n",
              "      </button>\n",
              "      \n",
              "  <style>\n",
              "    .colab-df-container {\n",
              "      display:flex;\n",
              "      flex-wrap:wrap;\n",
              "      gap: 12px;\n",
              "    }\n",
              "\n",
              "    .colab-df-convert {\n",
              "      background-color: #E8F0FE;\n",
              "      border: none;\n",
              "      border-radius: 50%;\n",
              "      cursor: pointer;\n",
              "      display: none;\n",
              "      fill: #1967D2;\n",
              "      height: 32px;\n",
              "      padding: 0 0 0 0;\n",
              "      width: 32px;\n",
              "    }\n",
              "\n",
              "    .colab-df-convert:hover {\n",
              "      background-color: #E2EBFA;\n",
              "      box-shadow: 0px 1px 2px rgba(60, 64, 67, 0.3), 0px 1px 3px 1px rgba(60, 64, 67, 0.15);\n",
              "      fill: #174EA6;\n",
              "    }\n",
              "\n",
              "    [theme=dark] .colab-df-convert {\n",
              "      background-color: #3B4455;\n",
              "      fill: #D2E3FC;\n",
              "    }\n",
              "\n",
              "    [theme=dark] .colab-df-convert:hover {\n",
              "      background-color: #434B5C;\n",
              "      box-shadow: 0px 1px 3px 1px rgba(0, 0, 0, 0.15);\n",
              "      filter: drop-shadow(0px 1px 2px rgba(0, 0, 0, 0.3));\n",
              "      fill: #FFFFFF;\n",
              "    }\n",
              "  </style>\n",
              "\n",
              "      <script>\n",
              "        const buttonEl =\n",
              "          document.querySelector('#df-c56c9d81-620c-4342-b6a4-400c2828b40e button.colab-df-convert');\n",
              "        buttonEl.style.display =\n",
              "          google.colab.kernel.accessAllowed ? 'block' : 'none';\n",
              "\n",
              "        async function convertToInteractive(key) {\n",
              "          const element = document.querySelector('#df-c56c9d81-620c-4342-b6a4-400c2828b40e');\n",
              "          const dataTable =\n",
              "            await google.colab.kernel.invokeFunction('convertToInteractive',\n",
              "                                                     [key], {});\n",
              "          if (!dataTable) return;\n",
              "\n",
              "          const docLinkHtml = 'Like what you see? Visit the ' +\n",
              "            '<a target=\"_blank\" href=https://colab.research.google.com/notebooks/data_table.ipynb>data table notebook</a>'\n",
              "            + ' to learn more about interactive tables.';\n",
              "          element.innerHTML = '';\n",
              "          dataTable['output_type'] = 'display_data';\n",
              "          await google.colab.output.renderOutput(dataTable, element);\n",
              "          const docLink = document.createElement('div');\n",
              "          docLink.innerHTML = docLinkHtml;\n",
              "          element.appendChild(docLink);\n",
              "        }\n",
              "      </script>\n",
              "    </div>\n",
              "  </div>\n",
              "  "
            ]
          },
          "metadata": {},
          "execution_count": 11
        }
      ],
      "source": [
        "data.describe()"
      ]
    },
    {
      "cell_type": "markdown",
      "id": "b3de83c1",
      "metadata": {
        "id": "b3de83c1",
        "papermill": {
          "duration": 0.016884,
          "end_time": "2023-01-21T21:02:07.390992",
          "exception": false,
          "start_time": "2023-01-21T21:02:07.374108",
          "status": "completed"
        },
        "tags": []
      },
      "source": [
        "# EDA and Outlier Detection"
      ]
    },
    {
      "cell_type": "markdown",
      "id": "50403f3f",
      "metadata": {
        "id": "50403f3f",
        "papermill": {
          "duration": 0.017534,
          "end_time": "2023-01-21T21:02:07.425677",
          "exception": false,
          "start_time": "2023-01-21T21:02:07.408143",
          "status": "completed"
        },
        "tags": []
      },
      "source": [
        "**Pregnancies**"
      ]
    },
    {
      "cell_type": "code",
      "execution_count": 14,
      "id": "23bede39",
      "metadata": {
        "execution": {
          "iopub.execute_input": "2023-01-21T21:02:07.461379Z",
          "iopub.status.busy": "2023-01-21T21:02:07.460997Z",
          "iopub.status.idle": "2023-01-21T21:02:07.744534Z",
          "shell.execute_reply": "2023-01-21T21:02:07.743464Z"
        },
        "id": "23bede39",
        "outputId": "b1a3721d-710e-4fa5-ef57-9385fe155e91",
        "papermill": {
          "duration": 0.304379,
          "end_time": "2023-01-21T21:02:07.746993",
          "exception": false,
          "start_time": "2023-01-21T21:02:07.442614",
          "status": "completed"
        },
        "tags": [],
        "colab": {
          "base_uri": "https://localhost:8080/",
          "height": 297
        }
      },
      "outputs": [
        {
          "output_type": "execute_result",
          "data": {
            "text/plain": [
              "<matplotlib.axes._subplots.AxesSubplot at 0x7f8e2b9f5070>"
            ]
          },
          "metadata": {},
          "execution_count": 14
        },
        {
          "output_type": "display_data",
          "data": {
            "text/plain": [
              "<Figure size 432x288 with 1 Axes>"
            ],
            "image/png": "[encoded data removed]"
          },
          "metadata": {
            "needs_background": "light"
          }
        }
      ],
      "source": [
        "sns.histplot(data['No_Times_Pregnant'])"
      ]
    },
    {
      "cell_type": "code",
      "execution_count": 15,
      "id": "0ce4fa3f",
      "metadata": {
        "execution": {
          "iopub.execute_input": "2023-01-21T21:02:07.783943Z",
          "iopub.status.busy": "2023-01-21T21:02:07.783132Z",
          "iopub.status.idle": "2023-01-21T21:02:07.973596Z",
          "shell.execute_reply": "2023-01-21T21:02:07.972659Z"
        },
        "id": "0ce4fa3f",
        "outputId": "7c272b2f-4ae9-413d-8b9e-0a8124b8af74",
        "papermill": {
          "duration": 0.211434,
          "end_time": "2023-01-21T21:02:07.976163",
          "exception": false,
          "start_time": "2023-01-21T21:02:07.764729",
          "status": "completed"
        },
        "tags": [],
        "colab": {
          "base_uri": "https://localhost:8080/",
          "height": 297
        }
      },
      "outputs": [
        {
          "output_type": "execute_result",
          "data": {
            "text/plain": [
              "<matplotlib.axes._subplots.AxesSubplot at 0x7f8e61ac5f70>"
            ]
          },
          "metadata": {},
          "execution_count": 15
        },
        {
          "output_type": "display_data",
          "data": {
            "text/plain": [
              "<Figure size 432x288 with 1 Axes>"
            ],
            "image/png": "[encoded data removed]"
          },
          "metadata": {
            "needs_background": "light"
          }
        }
      ],
      "source": [
        "sns.boxplot(data['No_Times_Pregnant'])"
      ]
    },
    {
      "cell_type": "code",
      "execution_count": 19,
      "id": "ca165cc0",
      "metadata": {
        "execution": {
          "iopub.execute_input": "2023-01-21T21:02:08.013313Z",
          "iopub.status.busy": "2023-01-21T21:02:08.012932Z",
          "iopub.status.idle": "2023-01-21T21:02:08.026956Z",
          "shell.execute_reply": "2023-01-21T21:02:08.025934Z"
        },
        "id": "ca165cc0",
        "outputId": "593cff69-583a-4759-dc9a-73cced1a7ed5",
        "papermill": {
          "duration": 0.035249,
          "end_time": "2023-01-21T21:02:08.029355",
          "exception": false,
          "start_time": "2023-01-21T21:02:07.994106",
          "status": "completed"
        },
        "tags": [],
        "colab": {
          "base_uri": "https://localhost:8080/",
          "height": 300
        }
      },
      "outputs": [
        {
          "output_type": "execute_result",
          "data": {
            "text/plain": [
              "     No_Times_Pregnant  Plasma_Glucose  Diastolic_BP  Triceps  Insulin   BMI  \\\n",
              "13                13.0             145            82       19      110  22.2   \n",
              "103               12.0             151            70       40      271  41.8   \n",
              "122               12.0              92            62        7      258  27.6   \n",
              "161               13.0             152            90       33       29  26.8   \n",
              "177               12.0              88            74       40       54  35.3   \n",
              "188               12.0             140            82       43      325  39.2   \n",
              "382               13.0             153            88       37      140  40.6   \n",
              "383               12.0             100            84       33      105  30.0   \n",
              "\n",
              "     Age  Diabetes  \n",
              "13    57         0  \n",
              "103   38         1  \n",
              "122   44         1  \n",
              "161   43         1  \n",
              "177   48         0  \n",
              "188   58         1  \n",
              "382   39         0  \n",
              "383   46         0  "
            ],
            "text/html": [
              "\n",
              "  <div id=\"df-48756b62-7cb1-416d-90dc-a639e76019fb\">\n",
              "    <div class=\"colab-df-container\">\n",
              "      <div>\n",
              "<style scoped>\n",
              "    .dataframe tbody tr th:only-of-type {\n",
              "        vertical-align: middle;\n",
              "    }\n",
              "\n",
              "    .dataframe tbody tr th {\n",
              "        vertical-align: top;\n",
              "    }\n",
              "\n",
              "    .dataframe thead th {\n",
              "        text-align: right;\n",
              "    }\n",
              "</style>\n",
              "<table border=\"1\" class=\"dataframe\">\n",
              "  <thead>\n",
              "    <tr style=\"text-align: right;\">\n",
              "      <th></th>\n",
              "      <th>No_Times_Pregnant</th>\n",
              "      <th>Plasma_Glucose</th>\n",
              "      <th>Diastolic_BP</th>\n",
              "      <th>Triceps</th>\n",
              "      <th>Insulin</th>\n",
              "      <th>BMI</th>\n",
              "      <th>Age</th>\n",
              "      <th>Diabetes</th>\n",
              "    </tr>\n",
              "  </thead>\n",
              "  <tbody>\n",
              "    <tr>\n",
              "      <th>13</th>\n",
              "      <td>13.0</td>\n",
              "      <td>145</td>\n",
              "      <td>82</td>\n",
              "      <td>19</td>\n",
              "      <td>110</td>\n",
              "      <td>22.2</td>\n",
              "      <td>57</td>\n",
              "      <td>0</td>\n",
              "    </tr>\n",
              "    <tr>\n",
              "      <th>103</th>\n",
              "      <td>12.0</td>\n",
              "      <td>151</td>\n",
              "      <td>70</td>\n",
              "      <td>40</td>\n",
              "      <td>271</td>\n",
              "      <td>41.8</td>\n",
              "      <td>38</td>\n",
              "      <td>1</td>\n",
              "    </tr>\n",
              "    <tr>\n",
              "      <th>122</th>\n",
              "      <td>12.0</td>\n",
              "      <td>92</td>\n",
              "      <td>62</td>\n",
              "      <td>7</td>\n",
              "      <td>258</td>\n",
              "      <td>27.6</td>\n",
              "      <td>44</td>\n",
              "      <td>1</td>\n",
              "    </tr>\n",
              "    <tr>\n",
              "      <th>161</th>\n",
              "      <td>13.0</td>\n",
              "      <td>152</td>\n",
              "      <td>90</td>\n",
              "      <td>33</td>\n",
              "      <td>29</td>\n",
              "      <td>26.8</td>\n",
              "      <td>43</td>\n",
              "      <td>1</td>\n",
              "    </tr>\n",
              "    <tr>\n",
              "      <th>177</th>\n",
              "      <td>12.0</td>\n",
              "      <td>88</td>\n",
              "      <td>74</td>\n",
              "      <td>40</td>\n",
              "      <td>54</td>\n",
              "      <td>35.3</td>\n",
              "      <td>48</td>\n",
              "      <td>0</td>\n",
              "    </tr>\n",
              "    <tr>\n",
              "      <th>188</th>\n",
              "      <td>12.0</td>\n",
              "      <td>140</td>\n",
              "      <td>82</td>\n",
              "      <td>43</td>\n",
              "      <td>325</td>\n",
              "      <td>39.2</td>\n",
              "      <td>58</td>\n",
              "      <td>1</td>\n",
              "    </tr>\n",
              "    <tr>\n",
              "      <th>382</th>\n",
              "      <td>13.0</td>\n",
              "      <td>153</td>\n",
              "      <td>88</td>\n",
              "      <td>37</td>\n",
              "      <td>140</td>\n",
              "      <td>40.6</td>\n",
              "      <td>39</td>\n",
              "      <td>0</td>\n",
              "    </tr>\n",
              "    <tr>\n",
              "      <th>383</th>\n",
              "      <td>12.0</td>\n",
              "      <td>100</td>\n",
              "      <td>84</td>\n",
              "      <td>33</td>\n",
              "      <td>105</td>\n",
              "      <td>30.0</td>\n",
              "      <td>46</td>\n",
              "      <td>0</td>\n",
              "    </tr>\n",
              "  </tbody>\n",
              "</table>\n",
              "</div>\n",
              "      <button class=\"colab-df-convert\" onclick=\"convertToInteractive('df-48756b62-7cb1-416d-90dc-a639e76019fb')\"\n",
              "              title=\"Convert this dataframe to an interactive table.\"\n",
              "              style=\"display:none;\">\n",
              "        \n",
              "  <svg xmlns=\"http://www.w3.org/2000/svg\" height=\"24px\"viewBox=\"0 0 24 24\"\n",
              "       width=\"24px\">\n",
              "    <path d=\"M0 0h24v24H0V0z\" fill=\"none\"/>\n",
              "    <path d=\"M18.56 5.44l.94 2.06.94-2.06 2.06-.94-2.06-.94-.94-2.06-.94 2.06-2.06.94zm-11 1L8.5 8.5l.94-2.06 2.06-.94-2.06-.94L8.5 2.5l-.94 2.06-2.06.94zm10 10l.94 2.06.94-2.06 2.06-.94-2.06-.94-.94-2.06-.94 2.06-2.06.94z\"/><path d=\"M17.41 7.96l-1.37-1.37c-.4-.4-.92-.59-1.43-.59-.52 0-1.04.2-1.43.59L10.3 9.45l-7.72 7.72c-.78.78-.78 2.05 0 2.83L4 21.41c.39.39.9.59 1.41.59.51 0 1.02-.2 1.41-.59l7.78-7.78 2.81-2.81c.8-.78.8-2.07 0-2.86zM5.41 20L4 18.59l7.72-7.72 1.47 1.35L5.41 20z\"/>\n",
              "  </svg>\n",
              "      </button>\n",
              "      \n",
              "  <style>\n",
              "    .colab-df-container {\n",
              "      display:flex;\n",
              "      flex-wrap:wrap;\n",
              "      gap: 12px;\n",
              "    }\n",
              "\n",
              "    .colab-df-convert {\n",
              "      background-color: #E8F0FE;\n",
              "      border: none;\n",
              "      border-radius: 50%;\n",
              "      cursor: pointer;\n",
              "      display: none;\n",
              "      fill: #1967D2;\n",
              "      height: 32px;\n",
              "      padding: 0 0 0 0;\n",
              "      width: 32px;\n",
              "    }\n",
              "\n",
              "    .colab-df-convert:hover {\n",
              "      background-color: #E2EBFA;\n",
              "      box-shadow: 0px 1px 2px rgba(60, 64, 67, 0.3), 0px 1px 3px 1px rgba(60, 64, 67, 0.15);\n",
              "      fill: #174EA6;\n",
              "    }\n",
              "\n",
              "    [theme=dark] .colab-df-convert {\n",
              "      background-color: #3B4455;\n",
              "      fill: #D2E3FC;\n",
              "    }\n",
              "\n",
              "    [theme=dark] .colab-df-convert:hover {\n",
              "      background-color: #434B5C;\n",
              "      box-shadow: 0px 1px 3px 1px rgba(0, 0, 0, 0.15);\n",
              "      filter: drop-shadow(0px 1px 2px rgba(0, 0, 0, 0.3));\n",
              "      fill: #FFFFFF;\n",
              "    }\n",
              "  </style>\n",
              "\n",
              "      <script>\n",
              "        const buttonEl =\n",
              "          document.querySelector('#df-48756b62-7cb1-416d-90dc-a639e76019fb button.colab-df-convert');\n",
              "        buttonEl.style.display =\n",
              "          google.colab.kernel.accessAllowed ? 'block' : 'none';\n",
              "\n",
              "        async function convertToInteractive(key) {\n",
              "          const element = document.querySelector('#df-48756b62-7cb1-416d-90dc-a639e76019fb');\n",
              "          const dataTable =\n",
              "            await google.colab.kernel.invokeFunction('convertToInteractive',\n",
              "                                                     [key], {});\n",
              "          if (!dataTable) return;\n",
              "\n",
              "          const docLinkHtml = 'Like what you see? Visit the ' +\n",
              "            '<a target=\"_blank\" href=https://colab.research.google.com/notebooks/data_table.ipynb>data table notebook</a>'\n",
              "            + ' to learn more about interactive tables.';\n",
              "          element.innerHTML = '';\n",
              "          dataTable['output_type'] = 'display_data';\n",
              "          await google.colab.output.renderOutput(dataTable, element);\n",
              "          const docLink = document.createElement('div');\n",
              "          docLink.innerHTML = docLinkHtml;\n",
              "          element.appendChild(docLink);\n",
              "        }\n",
              "      </script>\n",
              "    </div>\n",
              "  </div>\n",
              "  "
            ]
          },
          "metadata": {},
          "execution_count": 19
        }
      ],
      "source": [
        "data[data['No_Times_Pregnant'] > 11]"
      ]
    },
    {
      "cell_type": "code",
      "execution_count": 20,
      "id": "6428521d",
      "metadata": {
        "execution": {
          "iopub.execute_input": "2023-01-21T21:02:08.066540Z",
          "iopub.status.busy": "2023-01-21T21:02:08.066157Z",
          "iopub.status.idle": "2023-01-21T21:02:08.072641Z",
          "shell.execute_reply": "2023-01-21T21:02:08.071593Z"
        },
        "id": "6428521d",
        "papermill": {
          "duration": 0.027814,
          "end_time": "2023-01-21T21:02:08.074837",
          "exception": false,
          "start_time": "2023-01-21T21:02:08.047023",
          "status": "completed"
        },
        "tags": []
      },
      "outputs": [],
      "source": [
        "data.loc[data['No_Times_Pregnant'] > 11 , 'No_Times_Pregnant'] = np.nan"
      ]
    },
    {
      "cell_type": "code",
      "execution_count": 21,
      "id": "dafc4a85",
      "metadata": {
        "execution": {
          "iopub.execute_input": "2023-01-21T21:02:08.113148Z",
          "iopub.status.busy": "2023-01-21T21:02:08.112396Z",
          "iopub.status.idle": "2023-01-21T21:02:08.226175Z",
          "shell.execute_reply": "2023-01-21T21:02:08.225142Z"
        },
        "id": "dafc4a85",
        "outputId": "4bd0a39f-4ca4-4483-9068-cbf00163290f",
        "papermill": {
          "duration": 0.135779,
          "end_time": "2023-01-21T21:02:08.228830",
          "exception": false,
          "start_time": "2023-01-21T21:02:08.093051",
          "status": "completed"
        },
        "tags": [],
        "colab": {
          "base_uri": "https://localhost:8080/",
          "height": 297
        }
      },
      "outputs": [
        {
          "output_type": "execute_result",
          "data": {
            "text/plain": [
              "<matplotlib.axes._subplots.AxesSubplot at 0x7f8e2b2201c0>"
            ]
          },
          "metadata": {},
          "execution_count": 21
        },
        {
          "output_type": "display_data",
          "data": {
            "text/plain": [
              "<Figure size 432x288 with 1 Axes>"
            ],
            "image/png": "[encoded data removed]"
          },
          "metadata": {
            "needs_background": "light"
          }
        }
      ],
      "source": [
        "sns.boxplot(data['No_Times_Pregnant'])"
      ]
    },
    {
      "cell_type": "code",
      "execution_count": 22,
      "id": "17349323",
      "metadata": {
        "execution": {
          "iopub.execute_input": "2023-01-21T21:02:08.267558Z",
          "iopub.status.busy": "2023-01-21T21:02:08.267147Z",
          "iopub.status.idle": "2023-01-21T21:02:08.450867Z",
          "shell.execute_reply": "2023-01-21T21:02:08.450050Z"
        },
        "id": "17349323",
        "outputId": "26bfe4f5-d17b-485b-890b-980519b4636c",
        "papermill": {
          "duration": 0.206265,
          "end_time": "2023-01-21T21:02:08.453425",
          "exception": false,
          "start_time": "2023-01-21T21:02:08.247160",
          "status": "completed"
        },
        "tags": [],
        "colab": {
          "base_uri": "https://localhost:8080/",
          "height": 297
        }
      },
      "outputs": [
        {
          "output_type": "execute_result",
          "data": {
            "text/plain": [
              "<matplotlib.axes._subplots.AxesSubplot at 0x7f8e2b178790>"
            ]
          },
          "metadata": {},
          "execution_count": 22
        },
        {
          "output_type": "display_data",
          "data": {
            "text/plain": [
              "<Figure size 432x288 with 1 Axes>"
            ],
            "image/png": "[encoded data removed]"
          },
          "metadata": {
            "needs_background": "light"
          }
        }
      ],
      "source": [
        "sns.histplot(data['No_Times_Pregnant'])"
      ]
    },
    {
      "cell_type": "code",
      "execution_count": 23,
      "id": "3ab8e3cb",
      "metadata": {
        "execution": {
          "iopub.execute_input": "2023-01-21T21:02:08.492481Z",
          "iopub.status.busy": "2023-01-21T21:02:08.492084Z",
          "iopub.status.idle": "2023-01-21T21:02:08.499851Z",
          "shell.execute_reply": "2023-01-21T21:02:08.498650Z"
        },
        "id": "3ab8e3cb",
        "outputId": "e81ec0b4-927f-4a36-dffa-f028094ba91e",
        "papermill": {
          "duration": 0.030491,
          "end_time": "2023-01-21T21:02:08.502314",
          "exception": false,
          "start_time": "2023-01-21T21:02:08.471823",
          "status": "completed"
        },
        "tags": [],
        "colab": {
          "base_uri": "https://localhost:8080/"
        }
      },
      "outputs": [
        {
          "output_type": "execute_result",
          "data": {
            "text/plain": [
              "11"
            ]
          },
          "metadata": {},
          "execution_count": 23
        }
      ],
      "source": [
        "data['No_Times_Pregnant'].isnull().sum()"
      ]
    },
    {
      "cell_type": "markdown",
      "id": "ff0bc191",
      "metadata": {
        "id": "ff0bc191",
        "papermill": {
          "duration": 0.018604,
          "end_time": "2023-01-21T21:02:08.539865",
          "exception": false,
          "start_time": "2023-01-21T21:02:08.521261",
          "status": "completed"
        },
        "tags": []
      },
      "source": [
        "**Glucose**"
      ]
    },
    {
      "cell_type": "code",
      "execution_count": 24,
      "id": "c3a96b84",
      "metadata": {
        "execution": {
          "iopub.execute_input": "2023-01-21T21:02:08.579360Z",
          "iopub.status.busy": "2023-01-21T21:02:08.578978Z",
          "iopub.status.idle": "2023-01-21T21:02:08.789482Z",
          "shell.execute_reply": "2023-01-21T21:02:08.788616Z"
        },
        "id": "c3a96b84",
        "outputId": "fd09953e-c4dc-424f-f998-18aa035c636f",
        "papermill": {
          "duration": 0.233384,
          "end_time": "2023-01-21T21:02:08.792303",
          "exception": false,
          "start_time": "2023-01-21T21:02:08.558919",
          "status": "completed"
        },
        "tags": [],
        "colab": {
          "base_uri": "https://localhost:8080/",
          "height": 297
        }
      },
      "outputs": [
        {
          "output_type": "execute_result",
          "data": {
            "text/plain": [
              "<matplotlib.axes._subplots.AxesSubplot at 0x7f8e2b7e1eb0>"
            ]
          },
          "metadata": {},
          "execution_count": 24
        },
        {
          "output_type": "display_data",
          "data": {
            "text/plain": [
              "<Figure size 432x288 with 1 Axes>"
            ],
            "image/png": "[encoded data removed]"
          },
          "metadata": {
            "needs_background": "light"
          }
        }
      ],
      "source": [
        "sns.histplot(data['Plasma_Glucose'])"
      ]
    },
    {
      "cell_type": "code",
      "execution_count": 25,
      "id": "087f65dc",
      "metadata": {
        "execution": {
          "iopub.execute_input": "2023-01-21T21:02:08.833037Z",
          "iopub.status.busy": "2023-01-21T21:02:08.832289Z",
          "iopub.status.idle": "2023-01-21T21:02:08.840561Z",
          "shell.execute_reply": "2023-01-21T21:02:08.839772Z"
        },
        "id": "087f65dc",
        "outputId": "8ad3cd42-d0c4-4755-e3c2-f3b6ab6d4193",
        "papermill": {
          "duration": 0.03105,
          "end_time": "2023-01-21T21:02:08.842769",
          "exception": false,
          "start_time": "2023-01-21T21:02:08.811719",
          "status": "completed"
        },
        "tags": [],
        "colab": {
          "base_uri": "https://localhost:8080/"
        }
      },
      "outputs": [
        {
          "output_type": "execute_result",
          "data": {
            "text/plain": [
              "Series([], Name: Plasma_Glucose, dtype: int64)"
            ]
          },
          "metadata": {},
          "execution_count": 25
        }
      ],
      "source": [
        "data.loc[data['Plasma_Glucose'] < 50 , 'Plasma_Glucose']"
      ]
    },
    {
      "cell_type": "code",
      "execution_count": 26,
      "id": "67be4441",
      "metadata": {
        "execution": {
          "iopub.execute_input": "2023-01-21T21:02:08.882615Z",
          "iopub.status.busy": "2023-01-21T21:02:08.881810Z",
          "iopub.status.idle": "2023-01-21T21:02:09.004793Z",
          "shell.execute_reply": "2023-01-21T21:02:09.003996Z"
        },
        "id": "67be4441",
        "outputId": "f9e32439-7ab7-4453-e5a6-9b5f9fa6ef86",
        "papermill": {
          "duration": 0.145725,
          "end_time": "2023-01-21T21:02:09.007143",
          "exception": false,
          "start_time": "2023-01-21T21:02:08.861418",
          "status": "completed"
        },
        "tags": [],
        "colab": {
          "base_uri": "https://localhost:8080/",
          "height": 297
        }
      },
      "outputs": [
        {
          "output_type": "execute_result",
          "data": {
            "text/plain": [
              "<matplotlib.axes._subplots.AxesSubplot at 0x7f8e2b1013d0>"
            ]
          },
          "metadata": {},
          "execution_count": 26
        },
        {
          "output_type": "display_data",
          "data": {
            "text/plain": [
              "<Figure size 432x288 with 1 Axes>"
            ],
            "image/png": "[encoded data removed]"
          },
          "metadata": {
            "needs_background": "light"
          }
        }
      ],
      "source": [
        "sns.boxplot(data['Plasma_Glucose'])"
      ]
    },
    {
      "cell_type": "code",
      "execution_count": 27,
      "id": "2d890880",
      "metadata": {
        "execution": {
          "iopub.execute_input": "2023-01-21T21:02:09.047795Z",
          "iopub.status.busy": "2023-01-21T21:02:09.047026Z",
          "iopub.status.idle": "2023-01-21T21:02:09.053621Z",
          "shell.execute_reply": "2023-01-21T21:02:09.052805Z"
        },
        "id": "2d890880",
        "papermill": {
          "duration": 0.02951,
          "end_time": "2023-01-21T21:02:09.055953",
          "exception": false,
          "start_time": "2023-01-21T21:02:09.026443",
          "status": "completed"
        },
        "tags": []
      },
      "outputs": [],
      "source": [
        "data.loc[data['Plasma_Glucose'] < 40 , 'Plasma_Glucose'] = np.nan"
      ]
    },
    {
      "cell_type": "code",
      "execution_count": 29,
      "id": "4c3b80ee",
      "metadata": {
        "execution": {
          "iopub.execute_input": "2023-01-21T21:02:09.096980Z",
          "iopub.status.busy": "2023-01-21T21:02:09.096563Z",
          "iopub.status.idle": "2023-01-21T21:02:09.348200Z",
          "shell.execute_reply": "2023-01-21T21:02:09.346974Z"
        },
        "id": "4c3b80ee",
        "outputId": "f6f75993-345e-4263-89e1-516d4fa55f98",
        "papermill": {
          "duration": 0.275493,
          "end_time": "2023-01-21T21:02:09.350958",
          "exception": false,
          "start_time": "2023-01-21T21:02:09.075465",
          "status": "completed"
        },
        "tags": [],
        "colab": {
          "base_uri": "https://localhost:8080/",
          "height": 297
        }
      },
      "outputs": [
        {
          "output_type": "execute_result",
          "data": {
            "text/plain": [
              "<matplotlib.axes._subplots.AxesSubplot at 0x7f8e2afcdfa0>"
            ]
          },
          "metadata": {},
          "execution_count": 29
        },
        {
          "output_type": "display_data",
          "data": {
            "text/plain": [
              "<Figure size 432x288 with 1 Axes>"
            ],
            "image/png": "[encoded data removed]"
          },
          "metadata": {
            "needs_background": "light"
          }
        }
      ],
      "source": [
        "sns.histplot(data['Plasma_Glucose'])"
      ]
    },
    {
      "cell_type": "code",
      "execution_count": 30,
      "id": "60e89e12",
      "metadata": {
        "execution": {
          "iopub.execute_input": "2023-01-21T21:02:09.394261Z",
          "iopub.status.busy": "2023-01-21T21:02:09.393364Z",
          "iopub.status.idle": "2023-01-21T21:02:09.585074Z",
          "shell.execute_reply": "2023-01-21T21:02:09.583952Z"
        },
        "id": "60e89e12",
        "outputId": "5fbf0ecb-0a50-4868-c7e0-518d11a8675a",
        "papermill": {
          "duration": 0.216098,
          "end_time": "2023-01-21T21:02:09.587377",
          "exception": false,
          "start_time": "2023-01-21T21:02:09.371279",
          "status": "completed"
        },
        "tags": [],
        "colab": {
          "base_uri": "https://localhost:8080/",
          "height": 297
        }
      },
      "outputs": [
        {
          "output_type": "execute_result",
          "data": {
            "text/plain": [
              "<matplotlib.axes._subplots.AxesSubplot at 0x7f8e2af7e730>"
            ]
          },
          "metadata": {},
          "execution_count": 30
        },
        {
          "output_type": "display_data",
          "data": {
            "text/plain": [
              "<Figure size 432x288 with 1 Axes>"
            ],
            "image/png": "[encoded data removed]"
          },
          "metadata": {
            "needs_background": "light"
          }
        }
      ],
      "source": [
        "sns.boxplot(data['Plasma_Glucose'])"
      ]
    },
    {
      "cell_type": "markdown",
      "id": "1ee4f265",
      "metadata": {
        "id": "1ee4f265",
        "papermill": {
          "duration": 0.019885,
          "end_time": "2023-01-21T21:02:09.627382",
          "exception": false,
          "start_time": "2023-01-21T21:02:09.607497",
          "status": "completed"
        },
        "tags": []
      },
      "source": [
        "**BloodPressure**"
      ]
    },
    {
      "cell_type": "code",
      "execution_count": 31,
      "id": "a48527cc",
      "metadata": {
        "execution": {
          "iopub.execute_input": "2023-01-21T21:02:09.669280Z",
          "iopub.status.busy": "2023-01-21T21:02:09.668869Z",
          "iopub.status.idle": "2023-01-21T21:02:09.969969Z",
          "shell.execute_reply": "2023-01-21T21:02:09.968813Z"
        },
        "id": "a48527cc",
        "outputId": "9dedb760-05c8-444e-ec4e-1a59dbaac1f7",
        "papermill": {
          "duration": 0.32489,
          "end_time": "2023-01-21T21:02:09.972270",
          "exception": false,
          "start_time": "2023-01-21T21:02:09.647380",
          "status": "completed"
        },
        "tags": [],
        "colab": {
          "base_uri": "https://localhost:8080/",
          "height": 297
        }
      },
      "outputs": [
        {
          "output_type": "execute_result",
          "data": {
            "text/plain": [
              "<matplotlib.axes._subplots.AxesSubplot at 0x7f8e2af22370>"
            ]
          },
          "metadata": {},
          "execution_count": 31
        },
        {
          "output_type": "display_data",
          "data": {
            "text/plain": [
              "<Figure size 432x288 with 1 Axes>"
            ],
            "image/png": "[encoded data removed]"
          },
          "metadata": {
            "needs_background": "light"
          }
        }
      ],
      "source": [
        "sns.histplot(data['Diastolic_BP'])"
      ]
    },
    {
      "cell_type": "code",
      "execution_count": 32,
      "id": "e24b497e",
      "metadata": {
        "execution": {
          "iopub.execute_input": "2023-01-21T21:02:10.014991Z",
          "iopub.status.busy": "2023-01-21T21:02:10.014586Z",
          "iopub.status.idle": "2023-01-21T21:02:10.195382Z",
          "shell.execute_reply": "2023-01-21T21:02:10.194299Z"
        },
        "id": "e24b497e",
        "outputId": "24195b10-6dd1-4ae5-c676-89a453b0cd80",
        "papermill": {
          "duration": 0.204928,
          "end_time": "2023-01-21T21:02:10.197778",
          "exception": false,
          "start_time": "2023-01-21T21:02:09.992850",
          "status": "completed"
        },
        "tags": [],
        "colab": {
          "base_uri": "https://localhost:8080/",
          "height": 297
        }
      },
      "outputs": [
        {
          "output_type": "execute_result",
          "data": {
            "text/plain": [
              "<matplotlib.axes._subplots.AxesSubplot at 0x7f8e2ae42af0>"
            ]
          },
          "metadata": {},
          "execution_count": 32
        },
        {
          "output_type": "display_data",
          "data": {
            "text/plain": [
              "<Figure size 432x288 with 1 Axes>"
            ],
            "image/png": "[encoded data removed]"
          },
          "metadata": {
            "needs_background": "light"
          }
        }
      ],
      "source": [
        "sns.boxplot(data['Diastolic_BP'])"
      ]
    },
    {
      "cell_type": "code",
      "execution_count": 33,
      "id": "50c5b212",
      "metadata": {
        "execution": {
          "iopub.execute_input": "2023-01-21T21:02:10.240731Z",
          "iopub.status.busy": "2023-01-21T21:02:10.240358Z",
          "iopub.status.idle": "2023-01-21T21:02:10.247500Z",
          "shell.execute_reply": "2023-01-21T21:02:10.246468Z"
        },
        "id": "50c5b212",
        "papermill": {
          "duration": 0.031242,
          "end_time": "2023-01-21T21:02:10.249823",
          "exception": false,
          "start_time": "2023-01-21T21:02:10.218581",
          "status": "completed"
        },
        "tags": []
      },
      "outputs": [],
      "source": [
        "data.loc[data['Diastolic_BP'] < 40 , 'Diastolic_BP'] = np.nan"
      ]
    },
    {
      "cell_type": "code",
      "execution_count": 34,
      "id": "93d4e4de",
      "metadata": {
        "execution": {
          "iopub.execute_input": "2023-01-21T21:02:10.294250Z",
          "iopub.status.busy": "2023-01-21T21:02:10.293128Z",
          "iopub.status.idle": "2023-01-21T21:02:10.468221Z",
          "shell.execute_reply": "2023-01-21T21:02:10.466968Z"
        },
        "id": "93d4e4de",
        "outputId": "b1f94587-603a-4552-b3da-1e540f03adc9",
        "papermill": {
          "duration": 0.200034,
          "end_time": "2023-01-21T21:02:10.470983",
          "exception": false,
          "start_time": "2023-01-21T21:02:10.270949",
          "status": "completed"
        },
        "tags": [],
        "colab": {
          "base_uri": "https://localhost:8080/",
          "height": 297
        }
      },
      "outputs": [
        {
          "output_type": "execute_result",
          "data": {
            "text/plain": [
              "<matplotlib.axes._subplots.AxesSubplot at 0x7f8e2af10bb0>"
            ]
          },
          "metadata": {},
          "execution_count": 34
        },
        {
          "output_type": "display_data",
          "data": {
            "text/plain": [
              "<Figure size 432x288 with 1 Axes>"
            ],
            "image/png": "[encoded data removed]"
          },
          "metadata": {
            "needs_background": "light"
          }
        }
      ],
      "source": [
        "sns.boxplot(data['Diastolic_BP'])"
      ]
    },
    {
      "cell_type": "code",
      "execution_count": 35,
      "id": "bff1e257",
      "metadata": {
        "execution": {
          "iopub.execute_input": "2023-01-21T21:02:10.517072Z",
          "iopub.status.busy": "2023-01-21T21:02:10.516050Z",
          "iopub.status.idle": "2023-01-21T21:02:10.530986Z",
          "shell.execute_reply": "2023-01-21T21:02:10.529763Z"
        },
        "id": "bff1e257",
        "outputId": "7bf11c96-5dff-4e8e-b69c-de26ef5e5e92",
        "papermill": {
          "duration": 0.04057,
          "end_time": "2023-01-21T21:02:10.533100",
          "exception": false,
          "start_time": "2023-01-21T21:02:10.492530",
          "status": "completed"
        },
        "tags": [],
        "colab": {
          "base_uri": "https://localhost:8080/",
          "height": 49
        }
      },
      "outputs": [
        {
          "output_type": "execute_result",
          "data": {
            "text/plain": [
              "Empty DataFrame\n",
              "Columns: [No_Times_Pregnant, Plasma_Glucose, Diastolic_BP, Triceps, Insulin, BMI, Age, Diabetes]\n",
              "Index: []"
            ],
            "text/html": [
              "\n",
              "  <div id=\"df-11b47d40-f665-4f7f-b053-c4cca699013c\">\n",
              "    <div class=\"colab-df-container\">\n",
              "      <div>\n",
              "<style scoped>\n",
              "    .dataframe tbody tr th:only-of-type {\n",
              "        vertical-align: middle;\n",
              "    }\n",
              "\n",
              "    .dataframe tbody tr th {\n",
              "        vertical-align: top;\n",
              "    }\n",
              "\n",
              "    .dataframe thead th {\n",
              "        text-align: right;\n",
              "    }\n",
              "</style>\n",
              "<table border=\"1\" class=\"dataframe\">\n",
              "  <thead>\n",
              "    <tr style=\"text-align: right;\">\n",
              "      <th></th>\n",
              "      <th>No_Times_Pregnant</th>\n",
              "      <th>Plasma_Glucose</th>\n",
              "      <th>Diastolic_BP</th>\n",
              "      <th>Triceps</th>\n",
              "      <th>Insulin</th>\n",
              "      <th>BMI</th>\n",
              "      <th>Age</th>\n",
              "      <th>Diabetes</th>\n",
              "    </tr>\n",
              "  </thead>\n",
              "  <tbody>\n",
              "  </tbody>\n",
              "</table>\n",
              "</div>\n",
              "      <button class=\"colab-df-convert\" onclick=\"convertToInteractive('df-11b47d40-f665-4f7f-b053-c4cca699013c')\"\n",
              "              title=\"Convert this dataframe to an interactive table.\"\n",
              "              style=\"display:none;\">\n",
              "        \n",
              "  <svg xmlns=\"http://www.w3.org/2000/svg\" height=\"24px\"viewBox=\"0 0 24 24\"\n",
              "       width=\"24px\">\n",
              "    <path d=\"M0 0h24v24H0V0z\" fill=\"none\"/>\n",
              "    <path d=\"M18.56 5.44l.94 2.06.94-2.06 2.06-.94-2.06-.94-.94-2.06-.94 2.06-2.06.94zm-11 1L8.5 8.5l.94-2.06 2.06-.94-2.06-.94L8.5 2.5l-.94 2.06-2.06.94zm10 10l.94 2.06.94-2.06 2.06-.94-2.06-.94-.94-2.06-.94 2.06-2.06.94z\"/><path d=\"M17.41 7.96l-1.37-1.37c-.4-.4-.92-.59-1.43-.59-.52 0-1.04.2-1.43.59L10.3 9.45l-7.72 7.72c-.78.78-.78 2.05 0 2.83L4 21.41c.39.39.9.59 1.41.59.51 0 1.02-.2 1.41-.59l7.78-7.78 2.81-2.81c.8-.78.8-2.07 0-2.86zM5.41 20L4 18.59l7.72-7.72 1.47 1.35L5.41 20z\"/>\n",
              "  </svg>\n",
              "      </button>\n",
              "      \n",
              "  <style>\n",
              "    .colab-df-container {\n",
              "      display:flex;\n",
              "      flex-wrap:wrap;\n",
              "      gap: 12px;\n",
              "    }\n",
              "\n",
              "    .colab-df-convert {\n",
              "      background-color: #E8F0FE;\n",
              "      border: none;\n",
              "      border-radius: 50%;\n",
              "      cursor: pointer;\n",
              "      display: none;\n",
              "      fill: #1967D2;\n",
              "      height: 32px;\n",
              "      padding: 0 0 0 0;\n",
              "      width: 32px;\n",
              "    }\n",
              "\n",
              "    .colab-df-convert:hover {\n",
              "      background-color: #E2EBFA;\n",
              "      box-shadow: 0px 1px 2px rgba(60, 64, 67, 0.3), 0px 1px 3px 1px rgba(60, 64, 67, 0.15);\n",
              "      fill: #174EA6;\n",
              "    }\n",
              "\n",
              "    [theme=dark] .colab-df-convert {\n",
              "      background-color: #3B4455;\n",
              "      fill: #D2E3FC;\n",
              "    }\n",
              "\n",
              "    [theme=dark] .colab-df-convert:hover {\n",
              "      background-color: #434B5C;\n",
              "      box-shadow: 0px 1px 3px 1px rgba(0, 0, 0, 0.15);\n",
              "      filter: drop-shadow(0px 1px 2px rgba(0, 0, 0, 0.3));\n",
              "      fill: #FFFFFF;\n",
              "    }\n",
              "  </style>\n",
              "\n",
              "      <script>\n",
              "        const buttonEl =\n",
              "          document.querySelector('#df-11b47d40-f665-4f7f-b053-c4cca699013c button.colab-df-convert');\n",
              "        buttonEl.style.display =\n",
              "          google.colab.kernel.accessAllowed ? 'block' : 'none';\n",
              "\n",
              "        async function convertToInteractive(key) {\n",
              "          const element = document.querySelector('#df-11b47d40-f665-4f7f-b053-c4cca699013c');\n",
              "          const dataTable =\n",
              "            await google.colab.kernel.invokeFunction('convertToInteractive',\n",
              "                                                     [key], {});\n",
              "          if (!dataTable) return;\n",
              "\n",
              "          const docLinkHtml = 'Like what you see? Visit the ' +\n",
              "            '<a target=\"_blank\" href=https://colab.research.google.com/notebooks/data_table.ipynb>data table notebook</a>'\n",
              "            + ' to learn more about interactive tables.';\n",
              "          element.innerHTML = '';\n",
              "          dataTable['output_type'] = 'display_data';\n",
              "          await google.colab.output.renderOutput(dataTable, element);\n",
              "          const docLink = document.createElement('div');\n",
              "          docLink.innerHTML = docLinkHtml;\n",
              "          element.appendChild(docLink);\n",
              "        }\n",
              "      </script>\n",
              "    </div>\n",
              "  </div>\n",
              "  "
            ]
          },
          "metadata": {},
          "execution_count": 35
        }
      ],
      "source": [
        "data.loc[data['Diastolic_BP'] > 120]"
      ]
    },
    {
      "cell_type": "code",
      "execution_count": 36,
      "id": "0a8fc085",
      "metadata": {
        "execution": {
          "iopub.execute_input": "2023-01-21T21:02:10.577466Z",
          "iopub.status.busy": "2023-01-21T21:02:10.576461Z",
          "iopub.status.idle": "2023-01-21T21:02:10.582727Z",
          "shell.execute_reply": "2023-01-21T21:02:10.581722Z"
        },
        "id": "0a8fc085",
        "papermill": {
          "duration": 0.031125,
          "end_time": "2023-01-21T21:02:10.585151",
          "exception": false,
          "start_time": "2023-01-21T21:02:10.554026",
          "status": "completed"
        },
        "tags": []
      },
      "outputs": [],
      "source": [
        "data.loc[data['Diastolic_BP'] > 120 , 'Diastolic_BP'] = np.nan"
      ]
    },
    {
      "cell_type": "code",
      "execution_count": 37,
      "id": "173f225f",
      "metadata": {
        "execution": {
          "iopub.execute_input": "2023-01-21T21:02:10.629188Z",
          "iopub.status.busy": "2023-01-21T21:02:10.628804Z",
          "iopub.status.idle": "2023-01-21T21:02:10.898581Z",
          "shell.execute_reply": "2023-01-21T21:02:10.897389Z"
        },
        "id": "173f225f",
        "outputId": "7f08aa08-eb8b-4eb7-a0de-50153ada1a30",
        "papermill": {
          "duration": 0.294842,
          "end_time": "2023-01-21T21:02:10.901252",
          "exception": false,
          "start_time": "2023-01-21T21:02:10.606410",
          "status": "completed"
        },
        "tags": [],
        "colab": {
          "base_uri": "https://localhost:8080/",
          "height": 297
        }
      },
      "outputs": [
        {
          "output_type": "execute_result",
          "data": {
            "text/plain": [
              "<matplotlib.axes._subplots.AxesSubplot at 0x7f8e61ac50d0>"
            ]
          },
          "metadata": {},
          "execution_count": 37
        },
        {
          "output_type": "display_data",
          "data": {
            "text/plain": [
              "<Figure size 432x288 with 1 Axes>"
            ],
            "image/png": "[encoded data removed]"
          },
          "metadata": {
            "needs_background": "light"
          }
        }
      ],
      "source": [
        "sns.histplot(data['Diastolic_BP'])"
      ]
    },
    {
      "cell_type": "markdown",
      "id": "c27a7dbb",
      "metadata": {
        "id": "c27a7dbb",
        "papermill": {
          "duration": 0.024103,
          "end_time": "2023-01-21T21:02:10.947810",
          "exception": false,
          "start_time": "2023-01-21T21:02:10.923707",
          "status": "completed"
        },
        "tags": []
      },
      "source": [
        "**Triceps**"
      ]
    },
    {
      "cell_type": "code",
      "execution_count": 38,
      "id": "72acee5b",
      "metadata": {
        "execution": {
          "iopub.execute_input": "2023-01-21T21:02:10.992427Z",
          "iopub.status.busy": "2023-01-21T21:02:10.991966Z",
          "iopub.status.idle": "2023-01-21T21:02:11.182852Z",
          "shell.execute_reply": "2023-01-21T21:02:11.182040Z"
        },
        "id": "72acee5b",
        "outputId": "9a6f8d6a-a67b-4f99-f667-9e97d4abcec9",
        "papermill": {
          "duration": 0.215556,
          "end_time": "2023-01-21T21:02:11.185003",
          "exception": false,
          "start_time": "2023-01-21T21:02:10.969447",
          "status": "completed"
        },
        "tags": [],
        "colab": {
          "base_uri": "https://localhost:8080/",
          "height": 296
        }
      },
      "outputs": [
        {
          "output_type": "execute_result",
          "data": {
            "text/plain": [
              "<matplotlib.axes._subplots.AxesSubplot at 0x7f8e2acf0580>"
            ]
          },
          "metadata": {},
          "execution_count": 38
        },
        {
          "output_type": "display_data",
          "data": {
            "text/plain": [
              "<Figure size 432x288 with 1 Axes>"
            ],
            "image/png": "[encoded data removed]"
          },
          "metadata": {
            "needs_background": "light"
          }
        }
      ],
      "source": [
        "sns.histplot(data['Triceps'])"
      ]
    },
    {
      "cell_type": "code",
      "execution_count": 39,
      "id": "c66e7309",
      "metadata": {
        "execution": {
          "iopub.execute_input": "2023-01-21T21:02:11.230311Z",
          "iopub.status.busy": "2023-01-21T21:02:11.229694Z",
          "iopub.status.idle": "2023-01-21T21:02:11.538872Z",
          "shell.execute_reply": "2023-01-21T21:02:11.537401Z"
        },
        "id": "c66e7309",
        "outputId": "dce683f5-fe81-4d8d-820e-f7e07af417e6",
        "papermill": {
          "duration": 0.335188,
          "end_time": "2023-01-21T21:02:11.541832",
          "exception": false,
          "start_time": "2023-01-21T21:02:11.206644",
          "status": "completed"
        },
        "tags": [],
        "colab": {
          "base_uri": "https://localhost:8080/",
          "height": 296
        }
      },
      "outputs": [
        {
          "output_type": "execute_result",
          "data": {
            "text/plain": [
              "<matplotlib.axes._subplots.AxesSubplot at 0x7f8e2ad8bf70>"
            ]
          },
          "metadata": {},
          "execution_count": 39
        },
        {
          "output_type": "display_data",
          "data": {
            "text/plain": [
              "<Figure size 432x288 with 1 Axes>"
            ],
            "image/png": "[encoded data removed]"
          },
          "metadata": {
            "needs_background": "light"
          }
        }
      ],
      "source": [
        "sns.boxplot(data['Triceps'])"
      ]
    },
    {
      "cell_type": "code",
      "execution_count": 40,
      "id": "c4a45f33",
      "metadata": {
        "execution": {
          "iopub.execute_input": "2023-01-21T21:02:11.590822Z",
          "iopub.status.busy": "2023-01-21T21:02:11.590094Z",
          "iopub.status.idle": "2023-01-21T21:02:11.611949Z",
          "shell.execute_reply": "2023-01-21T21:02:11.610721Z"
        },
        "id": "c4a45f33",
        "outputId": "003f65d8-75dd-4994-a59b-568ebbb54d36",
        "papermill": {
          "duration": 0.048394,
          "end_time": "2023-01-21T21:02:11.614385",
          "exception": false,
          "start_time": "2023-01-21T21:02:11.565991",
          "status": "completed"
        },
        "tags": [],
        "colab": {
          "base_uri": "https://localhost:8080/",
          "height": 394
        }
      },
      "outputs": [
        {
          "output_type": "execute_result",
          "data": {
            "text/plain": [
              "     No_Times_Pregnant  Plasma_Glucose  Diastolic_BP  Triceps  Insulin   BMI  \\\n",
              "15                 3.0            88.0          58.0       11       54  24.8   \n",
              "20                 1.0           103.0          80.0       11       82  19.4   \n",
              "122                NaN            92.0          62.0        7      258  27.6   \n",
              "131                2.0           108.0          62.0       10      278  25.3   \n",
              "156                3.0           113.0          50.0       10       85  29.5   \n",
              "158                3.0            99.0          80.0       11       64  19.3   \n",
              "193                1.0           109.0          60.0        8      182  25.4   \n",
              "222                1.0            80.0          74.0       11       60  30.0   \n",
              "239                0.0            74.0          52.0       10       36  27.8   \n",
              "265                6.0           129.0          90.0        7      326  19.6   \n",
              "359                4.0           127.0          88.0       11      155  34.5   \n",
              "\n",
              "     Age  Diabetes  \n",
              "15    22         0  \n",
              "20    22         0  \n",
              "122   44         1  \n",
              "131   22         0  \n",
              "156   25         0  \n",
              "158   30         0  \n",
              "193   21         0  \n",
              "222   22         0  \n",
              "239   22         0  \n",
              "265   60         0  \n",
              "359   28         0  "
            ],
            "text/html": [
              "\n",
              "  <div id=\"df-d6b88a9f-2b62-4708-8b33-31310e4f18ea\">\n",
              "    <div class=\"colab-df-container\">\n",
              "      <div>\n",
              "<style scoped>\n",
              "    .dataframe tbody tr th:only-of-type {\n",
              "        vertical-align: middle;\n",
              "    }\n",
              "\n",
              "    .dataframe tbody tr th {\n",
              "        vertical-align: top;\n",
              "    }\n",
              "\n",
              "    .dataframe thead th {\n",
              "        text-align: right;\n",
              "    }\n",
              "</style>\n",
              "<table border=\"1\" class=\"dataframe\">\n",
              "  <thead>\n",
              "    <tr style=\"text-align: right;\">\n",
              "      <th></th>\n",
              "      <th>No_Times_Pregnant</th>\n",
              "      <th>Plasma_Glucose</th>\n",
              "      <th>Diastolic_BP</th>\n",
              "      <th>Triceps</th>\n",
              "      <th>Insulin</th>\n",
              "      <th>BMI</th>\n",
              "      <th>Age</th>\n",
              "      <th>Diabetes</th>\n",
              "    </tr>\n",
              "  </thead>\n",
              "  <tbody>\n",
              "    <tr>\n",
              "      <th>15</th>\n",
              "      <td>3.0</td>\n",
              "      <td>88.0</td>\n",
              "      <td>58.0</td>\n",
              "      <td>11</td>\n",
              "      <td>54</td>\n",
              "      <td>24.8</td>\n",
              "      <td>22</td>\n",
              "      <td>0</td>\n",
              "    </tr>\n",
              "    <tr>\n",
              "      <th>20</th>\n",
              "      <td>1.0</td>\n",
              "      <td>103.0</td>\n",
              "      <td>80.0</td>\n",
              "      <td>11</td>\n",
              "      <td>82</td>\n",
              "      <td>19.4</td>\n",
              "      <td>22</td>\n",
              "      <td>0</td>\n",
              "    </tr>\n",
              "    <tr>\n",
              "      <th>122</th>\n",
              "      <td>NaN</td>\n",
              "      <td>92.0</td>\n",
              "      <td>62.0</td>\n",
              "      <td>7</td>\n",
              "      <td>258</td>\n",
              "      <td>27.6</td>\n",
              "      <td>44</td>\n",
              "      <td>1</td>\n",
              "    </tr>\n",
              "    <tr>\n",
              "      <th>131</th>\n",
              "      <td>2.0</td>\n",
              "      <td>108.0</td>\n",
              "      <td>62.0</td>\n",
              "      <td>10</td>\n",
              "      <td>278</td>\n",
              "      <td>25.3</td>\n",
              "      <td>22</td>\n",
              "      <td>0</td>\n",
              "    </tr>\n",
              "    <tr>\n",
              "      <th>156</th>\n",
              "      <td>3.0</td>\n",
              "      <td>113.0</td>\n",
              "      <td>50.0</td>\n",
              "      <td>10</td>\n",
              "      <td>85</td>\n",
              "      <td>29.5</td>\n",
              "      <td>25</td>\n",
              "      <td>0</td>\n",
              "    </tr>\n",
              "    <tr>\n",
              "      <th>158</th>\n",
              "      <td>3.0</td>\n",
              "      <td>99.0</td>\n",
              "      <td>80.0</td>\n",
              "      <td>11</td>\n",
              "      <td>64</td>\n",
              "      <td>19.3</td>\n",
              "      <td>30</td>\n",
              "      <td>0</td>\n",
              "    </tr>\n",
              "    <tr>\n",
              "      <th>193</th>\n",
              "      <td>1.0</td>\n",
              "      <td>109.0</td>\n",
              "      <td>60.0</td>\n",
              "      <td>8</td>\n",
              "      <td>182</td>\n",
              "      <td>25.4</td>\n",
              "      <td>21</td>\n",
              "      <td>0</td>\n",
              "    </tr>\n",
              "    <tr>\n",
              "      <th>222</th>\n",
              "      <td>1.0</td>\n",
              "      <td>80.0</td>\n",
              "      <td>74.0</td>\n",
              "      <td>11</td>\n",
              "      <td>60</td>\n",
              "      <td>30.0</td>\n",
              "      <td>22</td>\n",
              "      <td>0</td>\n",
              "    </tr>\n",
              "    <tr>\n",
              "      <th>239</th>\n",
              "      <td>0.0</td>\n",
              "      <td>74.0</td>\n",
              "      <td>52.0</td>\n",
              "      <td>10</td>\n",
              "      <td>36</td>\n",
              "      <td>27.8</td>\n",
              "      <td>22</td>\n",
              "      <td>0</td>\n",
              "    </tr>\n",
              "    <tr>\n",
              "      <th>265</th>\n",
              "      <td>6.0</td>\n",
              "      <td>129.0</td>\n",
              "      <td>90.0</td>\n",
              "      <td>7</td>\n",
              "      <td>326</td>\n",
              "      <td>19.6</td>\n",
              "      <td>60</td>\n",
              "      <td>0</td>\n",
              "    </tr>\n",
              "    <tr>\n",
              "      <th>359</th>\n",
              "      <td>4.0</td>\n",
              "      <td>127.0</td>\n",
              "      <td>88.0</td>\n",
              "      <td>11</td>\n",
              "      <td>155</td>\n",
              "      <td>34.5</td>\n",
              "      <td>28</td>\n",
              "      <td>0</td>\n",
              "    </tr>\n",
              "  </tbody>\n",
              "</table>\n",
              "</div>\n",
              "      <button class=\"colab-df-convert\" onclick=\"convertToInteractive('df-d6b88a9f-2b62-4708-8b33-31310e4f18ea')\"\n",
              "              title=\"Convert this dataframe to an interactive table.\"\n",
              "              style=\"display:none;\">\n",
              "        \n",
              "  <svg xmlns=\"http://www.w3.org/2000/svg\" height=\"24px\"viewBox=\"0 0 24 24\"\n",
              "       width=\"24px\">\n",
              "    <path d=\"M0 0h24v24H0V0z\" fill=\"none\"/>\n",
              "    <path d=\"M18.56 5.44l.94 2.06.94-2.06 2.06-.94-2.06-.94-.94-2.06-.94 2.06-2.06.94zm-11 1L8.5 8.5l.94-2.06 2.06-.94-2.06-.94L8.5 2.5l-.94 2.06-2.06.94zm10 10l.94 2.06.94-2.06 2.06-.94-2.06-.94-.94-2.06-.94 2.06-2.06.94z\"/><path d=\"M17.41 7.96l-1.37-1.37c-.4-.4-.92-.59-1.43-.59-.52 0-1.04.2-1.43.59L10.3 9.45l-7.72 7.72c-.78.78-.78 2.05 0 2.83L4 21.41c.39.39.9.59 1.41.59.51 0 1.02-.2 1.41-.59l7.78-7.78 2.81-2.81c.8-.78.8-2.07 0-2.86zM5.41 20L4 18.59l7.72-7.72 1.47 1.35L5.41 20z\"/>\n",
              "  </svg>\n",
              "      </button>\n",
              "      \n",
              "  <style>\n",
              "    .colab-df-container {\n",
              "      display:flex;\n",
              "      flex-wrap:wrap;\n",
              "      gap: 12px;\n",
              "    }\n",
              "\n",
              "    .colab-df-convert {\n",
              "      background-color: #E8F0FE;\n",
              "      border: none;\n",
              "      border-radius: 50%;\n",
              "      cursor: pointer;\n",
              "      display: none;\n",
              "      fill: #1967D2;\n",
              "      height: 32px;\n",
              "      padding: 0 0 0 0;\n",
              "      width: 32px;\n",
              "    }\n",
              "\n",
              "    .colab-df-convert:hover {\n",
              "      background-color: #E2EBFA;\n",
              "      box-shadow: 0px 1px 2px rgba(60, 64, 67, 0.3), 0px 1px 3px 1px rgba(60, 64, 67, 0.15);\n",
              "      fill: #174EA6;\n",
              "    }\n",
              "\n",
              "    [theme=dark] .colab-df-convert {\n",
              "      background-color: #3B4455;\n",
              "      fill: #D2E3FC;\n",
              "    }\n",
              "\n",
              "    [theme=dark] .colab-df-convert:hover {\n",
              "      background-color: #434B5C;\n",
              "      box-shadow: 0px 1px 3px 1px rgba(0, 0, 0, 0.15);\n",
              "      filter: drop-shadow(0px 1px 2px rgba(0, 0, 0, 0.3));\n",
              "      fill: #FFFFFF;\n",
              "    }\n",
              "  </style>\n",
              "\n",
              "      <script>\n",
              "        const buttonEl =\n",
              "          document.querySelector('#df-d6b88a9f-2b62-4708-8b33-31310e4f18ea button.colab-df-convert');\n",
              "        buttonEl.style.display =\n",
              "          google.colab.kernel.accessAllowed ? 'block' : 'none';\n",
              "\n",
              "        async function convertToInteractive(key) {\n",
              "          const element = document.querySelector('#df-d6b88a9f-2b62-4708-8b33-31310e4f18ea');\n",
              "          const dataTable =\n",
              "            await google.colab.kernel.invokeFunction('convertToInteractive',\n",
              "                                                     [key], {});\n",
              "          if (!dataTable) return;\n",
              "\n",
              "          const docLinkHtml = 'Like what you see? Visit the ' +\n",
              "            '<a target=\"_blank\" href=https://colab.research.google.com/notebooks/data_table.ipynb>data table notebook</a>'\n",
              "            + ' to learn more about interactive tables.';\n",
              "          element.innerHTML = '';\n",
              "          dataTable['output_type'] = 'display_data';\n",
              "          await google.colab.output.renderOutput(dataTable, element);\n",
              "          const docLink = document.createElement('div');\n",
              "          docLink.innerHTML = docLinkHtml;\n",
              "          element.appendChild(docLink);\n",
              "        }\n",
              "      </script>\n",
              "    </div>\n",
              "  </div>\n",
              "  "
            ]
          },
          "metadata": {},
          "execution_count": 40
        }
      ],
      "source": [
        "data.loc[data['Triceps'] < 12 ]"
      ]
    },
    {
      "cell_type": "code",
      "execution_count": 41,
      "id": "c8a44957",
      "metadata": {
        "execution": {
          "iopub.execute_input": "2023-01-21T21:02:11.663143Z",
          "iopub.status.busy": "2023-01-21T21:02:11.662051Z",
          "iopub.status.idle": "2023-01-21T21:02:11.668679Z",
          "shell.execute_reply": "2023-01-21T21:02:11.667959Z"
        },
        "id": "c8a44957",
        "papermill": {
          "duration": 0.032953,
          "end_time": "2023-01-21T21:02:11.670714",
          "exception": false,
          "start_time": "2023-01-21T21:02:11.637761",
          "status": "completed"
        },
        "tags": []
      },
      "outputs": [],
      "source": [
        "data.loc[data['Triceps'] <12  , 'Triceps'] = np.nan"
      ]
    },
    {
      "cell_type": "code",
      "execution_count": 42,
      "id": "c1b36ed5",
      "metadata": {
        "execution": {
          "iopub.execute_input": "2023-01-21T21:02:11.718067Z",
          "iopub.status.busy": "2023-01-21T21:02:11.717613Z",
          "iopub.status.idle": "2023-01-21T21:02:11.974634Z",
          "shell.execute_reply": "2023-01-21T21:02:11.973544Z"
        },
        "id": "c1b36ed5",
        "outputId": "6b1d14e5-45a4-44c9-fec9-7dee92f66ff6",
        "papermill": {
          "duration": 0.283087,
          "end_time": "2023-01-21T21:02:11.976874",
          "exception": false,
          "start_time": "2023-01-21T21:02:11.693787",
          "status": "completed"
        },
        "tags": [],
        "colab": {
          "base_uri": "https://localhost:8080/",
          "height": 296
        }
      },
      "outputs": [
        {
          "output_type": "execute_result",
          "data": {
            "text/plain": [
              "<matplotlib.axes._subplots.AxesSubplot at 0x7f8e2b987280>"
            ]
          },
          "metadata": {},
          "execution_count": 42
        },
        {
          "output_type": "display_data",
          "data": {
            "text/plain": [
              "<Figure size 432x288 with 1 Axes>"
            ],
            "image/png": "[encoded data removed]"
          },
          "metadata": {
            "needs_background": "light"
          }
        }
      ],
      "source": [
        "sns.histplot(data['Triceps'])"
      ]
    },
    {
      "cell_type": "code",
      "execution_count": 45,
      "id": "ad9efedc",
      "metadata": {
        "execution": {
          "iopub.execute_input": "2023-01-21T21:02:12.026697Z",
          "iopub.status.busy": "2023-01-21T21:02:12.025513Z",
          "iopub.status.idle": "2023-01-21T21:02:12.199135Z",
          "shell.execute_reply": "2023-01-21T21:02:12.197946Z"
        },
        "id": "ad9efedc",
        "outputId": "f81b617b-50bd-4441-ddce-088b0445619e",
        "papermill": {
          "duration": 0.20173,
          "end_time": "2023-01-21T21:02:12.201683",
          "exception": false,
          "start_time": "2023-01-21T21:02:11.999953",
          "status": "completed"
        },
        "tags": [],
        "colab": {
          "base_uri": "https://localhost:8080/",
          "height": 296
        }
      },
      "outputs": [
        {
          "output_type": "execute_result",
          "data": {
            "text/plain": [
              "<matplotlib.axes._subplots.AxesSubplot at 0x7f8e2acc2100>"
            ]
          },
          "metadata": {},
          "execution_count": 45
        },
        {
          "output_type": "display_data",
          "data": {
            "text/plain": [
              "<Figure size 432x288 with 1 Axes>"
            ],
            "image/png": "[encoded data removed]"
          },
          "metadata": {
            "needs_background": "light"
          }
        }
      ],
      "source": [
        "sns.boxplot(data['Triceps'])"
      ]
    },
    {
      "cell_type": "code",
      "execution_count": 44,
      "id": "f5257355",
      "metadata": {
        "execution": {
          "iopub.execute_input": "2023-01-21T21:02:12.250109Z",
          "iopub.status.busy": "2023-01-21T21:02:12.249722Z",
          "iopub.status.idle": "2023-01-21T21:02:12.266643Z",
          "shell.execute_reply": "2023-01-21T21:02:12.265584Z"
        },
        "id": "f5257355",
        "outputId": "7c20cba6-9ad8-44be-b122-e03c23e48b80",
        "papermill": {
          "duration": 0.043491,
          "end_time": "2023-01-21T21:02:12.268816",
          "exception": false,
          "start_time": "2023-01-21T21:02:12.225325",
          "status": "completed"
        },
        "tags": [],
        "colab": {
          "base_uri": "https://localhost:8080/",
          "height": 112
        }
      },
      "outputs": [
        {
          "output_type": "execute_result",
          "data": {
            "text/plain": [
              "     No_Times_Pregnant  Plasma_Glucose  Diastolic_BP  Triceps  Insulin   BMI  \\\n",
              "26                 0.0           100.0          88.0     60.0      110  46.8   \n",
              "225                0.0           180.0          78.0     63.0       14  59.4   \n",
              "\n",
              "     Age  Diabetes  \n",
              "26    31         0  \n",
              "225   25         1  "
            ],
            "text/html": [
              "\n",
              "  <div id=\"df-c535e252-12b8-483f-bab1-88f2a62f47e6\">\n",
              "    <div class=\"colab-df-container\">\n",
              "      <div>\n",
              "<style scoped>\n",
              "    .dataframe tbody tr th:only-of-type {\n",
              "        vertical-align: middle;\n",
              "    }\n",
              "\n",
              "    .dataframe tbody tr th {\n",
              "        vertical-align: top;\n",
              "    }\n",
              "\n",
              "    .dataframe thead th {\n",
              "        text-align: right;\n",
              "    }\n",
              "</style>\n",
              "<table border=\"1\" class=\"dataframe\">\n",
              "  <thead>\n",
              "    <tr style=\"text-align: right;\">\n",
              "      <th></th>\n",
              "      <th>No_Times_Pregnant</th>\n",
              "      <th>Plasma_Glucose</th>\n",
              "      <th>Diastolic_BP</th>\n",
              "      <th>Triceps</th>\n",
              "      <th>Insulin</th>\n",
              "      <th>BMI</th>\n",
              "      <th>Age</th>\n",
              "      <th>Diabetes</th>\n",
              "    </tr>\n",
              "  </thead>\n",
              "  <tbody>\n",
              "    <tr>\n",
              "      <th>26</th>\n",
              "      <td>0.0</td>\n",
              "      <td>100.0</td>\n",
              "      <td>88.0</td>\n",
              "      <td>60.0</td>\n",
              "      <td>110</td>\n",
              "      <td>46.8</td>\n",
              "      <td>31</td>\n",
              "      <td>0</td>\n",
              "    </tr>\n",
              "    <tr>\n",
              "      <th>225</th>\n",
              "      <td>0.0</td>\n",
              "      <td>180.0</td>\n",
              "      <td>78.0</td>\n",
              "      <td>63.0</td>\n",
              "      <td>14</td>\n",
              "      <td>59.4</td>\n",
              "      <td>25</td>\n",
              "      <td>1</td>\n",
              "    </tr>\n",
              "  </tbody>\n",
              "</table>\n",
              "</div>\n",
              "      <button class=\"colab-df-convert\" onclick=\"convertToInteractive('df-c535e252-12b8-483f-bab1-88f2a62f47e6')\"\n",
              "              title=\"Convert this dataframe to an interactive table.\"\n",
              "              style=\"display:none;\">\n",
              "        \n",
              "  <svg xmlns=\"http://www.w3.org/2000/svg\" height=\"24px\"viewBox=\"0 0 24 24\"\n",
              "       width=\"24px\">\n",
              "    <path d=\"M0 0h24v24H0V0z\" fill=\"none\"/>\n",
              "    <path d=\"M18.56 5.44l.94 2.06.94-2.06 2.06-.94-2.06-.94-.94-2.06-.94 2.06-2.06.94zm-11 1L8.5 8.5l.94-2.06 2.06-.94-2.06-.94L8.5 2.5l-.94 2.06-2.06.94zm10 10l.94 2.06.94-2.06 2.06-.94-2.06-.94-.94-2.06-.94 2.06-2.06.94z\"/><path d=\"M17.41 7.96l-1.37-1.37c-.4-.4-.92-.59-1.43-.59-.52 0-1.04.2-1.43.59L10.3 9.45l-7.72 7.72c-.78.78-.78 2.05 0 2.83L4 21.41c.39.39.9.59 1.41.59.51 0 1.02-.2 1.41-.59l7.78-7.78 2.81-2.81c.8-.78.8-2.07 0-2.86zM5.41 20L4 18.59l7.72-7.72 1.47 1.35L5.41 20z\"/>\n",
              "  </svg>\n",
              "      </button>\n",
              "      \n",
              "  <style>\n",
              "    .colab-df-container {\n",
              "      display:flex;\n",
              "      flex-wrap:wrap;\n",
              "      gap: 12px;\n",
              "    }\n",
              "\n",
              "    .colab-df-convert {\n",
              "      background-color: #E8F0FE;\n",
              "      border: none;\n",
              "      border-radius: 50%;\n",
              "      cursor: pointer;\n",
              "      display: none;\n",
              "      fill: #1967D2;\n",
              "      height: 32px;\n",
              "      padding: 0 0 0 0;\n",
              "      width: 32px;\n",
              "    }\n",
              "\n",
              "    .colab-df-convert:hover {\n",
              "      background-color: #E2EBFA;\n",
              "      box-shadow: 0px 1px 2px rgba(60, 64, 67, 0.3), 0px 1px 3px 1px rgba(60, 64, 67, 0.15);\n",
              "      fill: #174EA6;\n",
              "    }\n",
              "\n",
              "    [theme=dark] .colab-df-convert {\n",
              "      background-color: #3B4455;\n",
              "      fill: #D2E3FC;\n",
              "    }\n",
              "\n",
              "    [theme=dark] .colab-df-convert:hover {\n",
              "      background-color: #434B5C;\n",
              "      box-shadow: 0px 1px 3px 1px rgba(0, 0, 0, 0.15);\n",
              "      filter: drop-shadow(0px 1px 2px rgba(0, 0, 0, 0.3));\n",
              "      fill: #FFFFFF;\n",
              "    }\n",
              "  </style>\n",
              "\n",
              "      <script>\n",
              "        const buttonEl =\n",
              "          document.querySelector('#df-c535e252-12b8-483f-bab1-88f2a62f47e6 button.colab-df-convert');\n",
              "        buttonEl.style.display =\n",
              "          google.colab.kernel.accessAllowed ? 'block' : 'none';\n",
              "\n",
              "        async function convertToInteractive(key) {\n",
              "          const element = document.querySelector('#df-c535e252-12b8-483f-bab1-88f2a62f47e6');\n",
              "          const dataTable =\n",
              "            await google.colab.kernel.invokeFunction('convertToInteractive',\n",
              "                                                     [key], {});\n",
              "          if (!dataTable) return;\n",
              "\n",
              "          const docLinkHtml = 'Like what you see? Visit the ' +\n",
              "            '<a target=\"_blank\" href=https://colab.research.google.com/notebooks/data_table.ipynb>data table notebook</a>'\n",
              "            + ' to learn more about interactive tables.';\n",
              "          element.innerHTML = '';\n",
              "          dataTable['output_type'] = 'display_data';\n",
              "          await google.colab.output.renderOutput(dataTable, element);\n",
              "          const docLink = document.createElement('div');\n",
              "          docLink.innerHTML = docLinkHtml;\n",
              "          element.appendChild(docLink);\n",
              "        }\n",
              "      </script>\n",
              "    </div>\n",
              "  </div>\n",
              "  "
            ]
          },
          "metadata": {},
          "execution_count": 44
        }
      ],
      "source": [
        "data.loc[data['Triceps'] > 59 ]"
      ]
    },
    {
      "cell_type": "markdown",
      "id": "2122794d",
      "metadata": {
        "id": "2122794d",
        "papermill": {
          "duration": 0.023088,
          "end_time": "2023-01-21T21:02:12.315933",
          "exception": false,
          "start_time": "2023-01-21T21:02:12.292845",
          "status": "completed"
        },
        "tags": []
      },
      "source": [
        "**Insulin**"
      ]
    },
    {
      "cell_type": "code",
      "execution_count": 46,
      "id": "e2768a55",
      "metadata": {
        "execution": {
          "iopub.execute_input": "2023-01-21T21:02:12.364925Z",
          "iopub.status.busy": "2023-01-21T21:02:12.364544Z",
          "iopub.status.idle": "2023-01-21T21:02:12.644969Z",
          "shell.execute_reply": "2023-01-21T21:02:12.643699Z"
        },
        "id": "e2768a55",
        "outputId": "98ae0546-7e76-4368-fb68-51a9dc665d59",
        "papermill": {
          "duration": 0.308142,
          "end_time": "2023-01-21T21:02:12.647642",
          "exception": false,
          "start_time": "2023-01-21T21:02:12.339500",
          "status": "completed"
        },
        "tags": [],
        "colab": {
          "base_uri": "https://localhost:8080/",
          "height": 296
        }
      },
      "outputs": [
        {
          "output_type": "execute_result",
          "data": {
            "text/plain": [
              "<matplotlib.axes._subplots.AxesSubplot at 0x7f8e2abcf760>"
            ]
          },
          "metadata": {},
          "execution_count": 46
        },
        {
          "output_type": "display_data",
          "data": {
            "text/plain": [
              "<Figure size 432x288 with 1 Axes>"
            ],
            "image/png": "[encoded data removed]"
          },
          "metadata": {
            "needs_background": "light"
          }
        }
      ],
      "source": [
        "sns.histplot(data['Insulin'])"
      ]
    },
    {
      "cell_type": "code",
      "execution_count": 47,
      "id": "f047c73a",
      "metadata": {
        "execution": {
          "iopub.execute_input": "2023-01-21T21:02:12.697639Z",
          "iopub.status.busy": "2023-01-21T21:02:12.697010Z",
          "iopub.status.idle": "2023-01-21T21:02:12.803612Z",
          "shell.execute_reply": "2023-01-21T21:02:12.802772Z"
        },
        "id": "f047c73a",
        "outputId": "867e005c-c15b-4c77-cb46-c503a379412c",
        "papermill": {
          "duration": 0.136132,
          "end_time": "2023-01-21T21:02:12.807549",
          "exception": false,
          "start_time": "2023-01-21T21:02:12.671417",
          "status": "completed"
        },
        "tags": [],
        "colab": {
          "base_uri": "https://localhost:8080/",
          "height": 296
        }
      },
      "outputs": [
        {
          "output_type": "execute_result",
          "data": {
            "text/plain": [
              "<matplotlib.axes._subplots.AxesSubplot at 0x7f8e2ae2ed90>"
            ]
          },
          "metadata": {},
          "execution_count": 47
        },
        {
          "output_type": "display_data",
          "data": {
            "text/plain": [
              "<Figure size 432x288 with 1 Axes>"
            ],
            "image/png": "[encoded data removed]"
          },
          "metadata": {
            "needs_background": "light"
          }
        }
      ],
      "source": [
        "sns.boxplot(data['Insulin'])"
      ]
    },
    {
      "cell_type": "code",
      "execution_count": 48,
      "id": "39deed51",
      "metadata": {
        "execution": {
          "iopub.execute_input": "2023-01-21T21:02:12.886009Z",
          "iopub.status.busy": "2023-01-21T21:02:12.885020Z",
          "iopub.status.idle": "2023-01-21T21:02:12.907776Z",
          "shell.execute_reply": "2023-01-21T21:02:12.906697Z"
        },
        "id": "39deed51",
        "outputId": "fefe5823-8b2d-48c1-b73d-e9000b3a214a",
        "papermill": {
          "duration": 0.050693,
          "end_time": "2023-01-21T21:02:12.910311",
          "exception": false,
          "start_time": "2023-01-21T21:02:12.859618",
          "status": "completed"
        },
        "tags": [],
        "colab": {
          "base_uri": "https://localhost:8080/",
          "height": 49
        }
      },
      "outputs": [
        {
          "output_type": "execute_result",
          "data": {
            "text/plain": [
              "Empty DataFrame\n",
              "Columns: [No_Times_Pregnant, Plasma_Glucose, Diastolic_BP, Triceps, Insulin, BMI, Age, Diabetes]\n",
              "Index: []"
            ],
            "text/html": [
              "\n",
              "  <div id=\"df-26cc0c8b-6965-4561-a2fe-922886043144\">\n",
              "    <div class=\"colab-df-container\">\n",
              "      <div>\n",
              "<style scoped>\n",
              "    .dataframe tbody tr th:only-of-type {\n",
              "        vertical-align: middle;\n",
              "    }\n",
              "\n",
              "    .dataframe tbody tr th {\n",
              "        vertical-align: top;\n",
              "    }\n",
              "\n",
              "    .dataframe thead th {\n",
              "        text-align: right;\n",
              "    }\n",
              "</style>\n",
              "<table border=\"1\" class=\"dataframe\">\n",
              "  <thead>\n",
              "    <tr style=\"text-align: right;\">\n",
              "      <th></th>\n",
              "      <th>No_Times_Pregnant</th>\n",
              "      <th>Plasma_Glucose</th>\n",
              "      <th>Diastolic_BP</th>\n",
              "      <th>Triceps</th>\n",
              "      <th>Insulin</th>\n",
              "      <th>BMI</th>\n",
              "      <th>Age</th>\n",
              "      <th>Diabetes</th>\n",
              "    </tr>\n",
              "  </thead>\n",
              "  <tbody>\n",
              "  </tbody>\n",
              "</table>\n",
              "</div>\n",
              "      <button class=\"colab-df-convert\" onclick=\"convertToInteractive('df-26cc0c8b-6965-4561-a2fe-922886043144')\"\n",
              "              title=\"Convert this dataframe to an interactive table.\"\n",
              "              style=\"display:none;\">\n",
              "        \n",
              "  <svg xmlns=\"http://www.w3.org/2000/svg\" height=\"24px\"viewBox=\"0 0 24 24\"\n",
              "       width=\"24px\">\n",
              "    <path d=\"M0 0h24v24H0V0z\" fill=\"none\"/>\n",
              "    <path d=\"M18.56 5.44l.94 2.06.94-2.06 2.06-.94-2.06-.94-.94-2.06-.94 2.06-2.06.94zm-11 1L8.5 8.5l.94-2.06 2.06-.94-2.06-.94L8.5 2.5l-.94 2.06-2.06.94zm10 10l.94 2.06.94-2.06 2.06-.94-2.06-.94-.94-2.06-.94 2.06-2.06.94z\"/><path d=\"M17.41 7.96l-1.37-1.37c-.4-.4-.92-.59-1.43-.59-.52 0-1.04.2-1.43.59L10.3 9.45l-7.72 7.72c-.78.78-.78 2.05 0 2.83L4 21.41c.39.39.9.59 1.41.59.51 0 1.02-.2 1.41-.59l7.78-7.78 2.81-2.81c.8-.78.8-2.07 0-2.86zM5.41 20L4 18.59l7.72-7.72 1.47 1.35L5.41 20z\"/>\n",
              "  </svg>\n",
              "      </button>\n",
              "      \n",
              "  <style>\n",
              "    .colab-df-container {\n",
              "      display:flex;\n",
              "      flex-wrap:wrap;\n",
              "      gap: 12px;\n",
              "    }\n",
              "\n",
              "    .colab-df-convert {\n",
              "      background-color: #E8F0FE;\n",
              "      border: none;\n",
              "      border-radius: 50%;\n",
              "      cursor: pointer;\n",
              "      display: none;\n",
              "      fill: #1967D2;\n",
              "      height: 32px;\n",
              "      padding: 0 0 0 0;\n",
              "      width: 32px;\n",
              "    }\n",
              "\n",
              "    .colab-df-convert:hover {\n",
              "      background-color: #E2EBFA;\n",
              "      box-shadow: 0px 1px 2px rgba(60, 64, 67, 0.3), 0px 1px 3px 1px rgba(60, 64, 67, 0.15);\n",
              "      fill: #174EA6;\n",
              "    }\n",
              "\n",
              "    [theme=dark] .colab-df-convert {\n",
              "      background-color: #3B4455;\n",
              "      fill: #D2E3FC;\n",
              "    }\n",
              "\n",
              "    [theme=dark] .colab-df-convert:hover {\n",
              "      background-color: #434B5C;\n",
              "      box-shadow: 0px 1px 3px 1px rgba(0, 0, 0, 0.15);\n",
              "      filter: drop-shadow(0px 1px 2px rgba(0, 0, 0, 0.3));\n",
              "      fill: #FFFFFF;\n",
              "    }\n",
              "  </style>\n",
              "\n",
              "      <script>\n",
              "        const buttonEl =\n",
              "          document.querySelector('#df-26cc0c8b-6965-4561-a2fe-922886043144 button.colab-df-convert');\n",
              "        buttonEl.style.display =\n",
              "          google.colab.kernel.accessAllowed ? 'block' : 'none';\n",
              "\n",
              "        async function convertToInteractive(key) {\n",
              "          const element = document.querySelector('#df-26cc0c8b-6965-4561-a2fe-922886043144');\n",
              "          const dataTable =\n",
              "            await google.colab.kernel.invokeFunction('convertToInteractive',\n",
              "                                                     [key], {});\n",
              "          if (!dataTable) return;\n",
              "\n",
              "          const docLinkHtml = 'Like what you see? Visit the ' +\n",
              "            '<a target=\"_blank\" href=https://colab.research.google.com/notebooks/data_table.ipynb>data table notebook</a>'\n",
              "            + ' to learn more about interactive tables.';\n",
              "          element.innerHTML = '';\n",
              "          dataTable['output_type'] = 'display_data';\n",
              "          await google.colab.output.renderOutput(dataTable, element);\n",
              "          const docLink = document.createElement('div');\n",
              "          docLink.innerHTML = docLinkHtml;\n",
              "          element.appendChild(docLink);\n",
              "        }\n",
              "      </script>\n",
              "    </div>\n",
              "  </div>\n",
              "  "
            ]
          },
          "metadata": {},
          "execution_count": 48
        }
      ],
      "source": [
        "data.loc[data['Insulin'] == 0 ]"
      ]
    },
    {
      "cell_type": "code",
      "execution_count": 49,
      "id": "70754966",
      "metadata": {
        "execution": {
          "iopub.execute_input": "2023-01-21T21:02:12.961379Z",
          "iopub.status.busy": "2023-01-21T21:02:12.960976Z",
          "iopub.status.idle": "2023-01-21T21:02:12.967079Z",
          "shell.execute_reply": "2023-01-21T21:02:12.966171Z"
        },
        "id": "70754966",
        "papermill": {
          "duration": 0.034095,
          "end_time": "2023-01-21T21:02:12.969080",
          "exception": false,
          "start_time": "2023-01-21T21:02:12.934985",
          "status": "completed"
        },
        "tags": []
      },
      "outputs": [],
      "source": [
        "data.loc[data['Insulin'] == 0 , 'Insulin'] = np.nan"
      ]
    },
    {
      "cell_type": "code",
      "execution_count": 50,
      "id": "c49c6f63",
      "metadata": {
        "execution": {
          "iopub.execute_input": "2023-01-21T21:02:13.019746Z",
          "iopub.status.busy": "2023-01-21T21:02:13.019334Z",
          "iopub.status.idle": "2023-01-21T21:02:13.195004Z",
          "shell.execute_reply": "2023-01-21T21:02:13.193871Z"
        },
        "id": "c49c6f63",
        "outputId": "e1949901-ef35-4fba-955f-617d62b88651",
        "papermill": {
          "duration": 0.203894,
          "end_time": "2023-01-21T21:02:13.197496",
          "exception": false,
          "start_time": "2023-01-21T21:02:12.993602",
          "status": "completed"
        },
        "tags": [],
        "colab": {
          "base_uri": "https://localhost:8080/",
          "height": 296
        }
      },
      "outputs": [
        {
          "output_type": "execute_result",
          "data": {
            "text/plain": [
              "<matplotlib.axes._subplots.AxesSubplot at 0x7f8e2aac3250>"
            ]
          },
          "metadata": {},
          "execution_count": 50
        },
        {
          "output_type": "display_data",
          "data": {
            "text/plain": [
              "<Figure size 432x288 with 1 Axes>"
            ],
            "image/png": "[encoded data removed]"
          },
          "metadata": {
            "needs_background": "light"
          }
        }
      ],
      "source": [
        "sns.boxplot(data['Insulin'])"
      ]
    },
    {
      "cell_type": "code",
      "execution_count": null,
      "id": "1eb4af67",
      "metadata": {
        "execution": {
          "iopub.execute_input": "2023-01-21T21:02:13.248935Z",
          "iopub.status.busy": "2023-01-21T21:02:13.248482Z",
          "iopub.status.idle": "2023-01-21T21:02:13.269777Z",
          "shell.execute_reply": "2023-01-21T21:02:13.268668Z"
        },
        "id": "1eb4af67",
        "outputId": "dfc7be7b-c511-43aa-df5c-e6ae3afb4c2b",
        "papermill": {
          "duration": 0.049958,
          "end_time": "2023-01-21T21:02:13.272097",
          "exception": false,
          "start_time": "2023-01-21T21:02:13.222139",
          "status": "completed"
        },
        "tags": []
      },
      "outputs": [
        {
          "data": {
            "text/html": [
              "<div>\n",
              "<style scoped>\n",
              "    .dataframe tbody tr th:only-of-type {\n",
              "        vertical-align: middle;\n",
              "    }\n",
              "\n",
              "    .dataframe tbody tr th {\n",
              "        vertical-align: top;\n",
              "    }\n",
              "\n",
              "    .dataframe thead th {\n",
              "        text-align: right;\n",
              "    }\n",
              "</style>\n",
              "<table border=\"1\" class=\"dataframe\">\n",
              "  <thead>\n",
              "    <tr style=\"text-align: right;\">\n",
              "      <th></th>\n",
              "      <th>Pregnancies</th>\n",
              "      <th>Glucose</th>\n",
              "      <th>BloodPressure</th>\n",
              "      <th>SkinThickness</th>\n",
              "      <th>Insulin</th>\n",
              "      <th>BMI</th>\n",
              "      <th>DiabetesPedigreeFunction</th>\n",
              "      <th>Age</th>\n",
              "      <th>Outcome</th>\n",
              "    </tr>\n",
              "  </thead>\n",
              "  <tbody>\n",
              "    <tr>\n",
              "      <th>8</th>\n",
              "      <td>2.0</td>\n",
              "      <td>197.0</td>\n",
              "      <td>70.0</td>\n",
              "      <td>45.0</td>\n",
              "      <td>543.0</td>\n",
              "      <td>30.5</td>\n",
              "      <td>0.158</td>\n",
              "      <td>53</td>\n",
              "      <td>1</td>\n",
              "    </tr>\n",
              "    <tr>\n",
              "      <th>13</th>\n",
              "      <td>1.0</td>\n",
              "      <td>189.0</td>\n",
              "      <td>60.0</td>\n",
              "      <td>23.0</td>\n",
              "      <td>846.0</td>\n",
              "      <td>30.1</td>\n",
              "      <td>0.398</td>\n",
              "      <td>59</td>\n",
              "      <td>1</td>\n",
              "    </tr>\n",
              "    <tr>\n",
              "      <th>228</th>\n",
              "      <td>4.0</td>\n",
              "      <td>197.0</td>\n",
              "      <td>70.0</td>\n",
              "      <td>39.0</td>\n",
              "      <td>744.0</td>\n",
              "      <td>36.7</td>\n",
              "      <td>2.329</td>\n",
              "      <td>31</td>\n",
              "      <td>0</td>\n",
              "    </tr>\n",
              "    <tr>\n",
              "      <th>247</th>\n",
              "      <td>0.0</td>\n",
              "      <td>165.0</td>\n",
              "      <td>90.0</td>\n",
              "      <td>33.0</td>\n",
              "      <td>680.0</td>\n",
              "      <td>52.3</td>\n",
              "      <td>0.427</td>\n",
              "      <td>23</td>\n",
              "      <td>0</td>\n",
              "    </tr>\n",
              "    <tr>\n",
              "      <th>286</th>\n",
              "      <td>5.0</td>\n",
              "      <td>155.0</td>\n",
              "      <td>84.0</td>\n",
              "      <td>44.0</td>\n",
              "      <td>545.0</td>\n",
              "      <td>38.7</td>\n",
              "      <td>0.619</td>\n",
              "      <td>34</td>\n",
              "      <td>0</td>\n",
              "    </tr>\n",
              "    <tr>\n",
              "      <th>409</th>\n",
              "      <td>1.0</td>\n",
              "      <td>172.0</td>\n",
              "      <td>68.0</td>\n",
              "      <td>49.0</td>\n",
              "      <td>579.0</td>\n",
              "      <td>42.4</td>\n",
              "      <td>0.702</td>\n",
              "      <td>28</td>\n",
              "      <td>1</td>\n",
              "    </tr>\n",
              "    <tr>\n",
              "      <th>584</th>\n",
              "      <td>8.0</td>\n",
              "      <td>124.0</td>\n",
              "      <td>76.0</td>\n",
              "      <td>24.0</td>\n",
              "      <td>600.0</td>\n",
              "      <td>28.7</td>\n",
              "      <td>0.687</td>\n",
              "      <td>52</td>\n",
              "      <td>1</td>\n",
              "    </tr>\n",
              "    <tr>\n",
              "      <th>655</th>\n",
              "      <td>2.0</td>\n",
              "      <td>155.0</td>\n",
              "      <td>52.0</td>\n",
              "      <td>27.0</td>\n",
              "      <td>540.0</td>\n",
              "      <td>38.7</td>\n",
              "      <td>0.240</td>\n",
              "      <td>25</td>\n",
              "      <td>1</td>\n",
              "    </tr>\n",
              "    <tr>\n",
              "      <th>753</th>\n",
              "      <td>0.0</td>\n",
              "      <td>181.0</td>\n",
              "      <td>88.0</td>\n",
              "      <td>44.0</td>\n",
              "      <td>510.0</td>\n",
              "      <td>43.3</td>\n",
              "      <td>0.222</td>\n",
              "      <td>26</td>\n",
              "      <td>1</td>\n",
              "    </tr>\n",
              "  </tbody>\n",
              "</table>\n",
              "</div>"
            ],
            "text/plain": [
              "     Pregnancies  Glucose  BloodPressure  SkinThickness  Insulin   BMI  \\\n",
              "8            2.0    197.0           70.0           45.0    543.0  30.5   \n",
              "13           1.0    189.0           60.0           23.0    846.0  30.1   \n",
              "228          4.0    197.0           70.0           39.0    744.0  36.7   \n",
              "247          0.0    165.0           90.0           33.0    680.0  52.3   \n",
              "286          5.0    155.0           84.0           44.0    545.0  38.7   \n",
              "409          1.0    172.0           68.0           49.0    579.0  42.4   \n",
              "584          8.0    124.0           76.0           24.0    600.0  28.7   \n",
              "655          2.0    155.0           52.0           27.0    540.0  38.7   \n",
              "753          0.0    181.0           88.0           44.0    510.0  43.3   \n",
              "\n",
              "     DiabetesPedigreeFunction  Age  Outcome  \n",
              "8                       0.158   53        1  \n",
              "13                      0.398   59        1  \n",
              "228                     2.329   31        0  \n",
              "247                     0.427   23        0  \n",
              "286                     0.619   34        0  \n",
              "409                     0.702   28        1  \n",
              "584                     0.687   52        1  \n",
              "655                     0.240   25        1  \n",
              "753                     0.222   26        1  "
            ]
          },
          "execution_count": 39,
          "metadata": {},
          "output_type": "execute_result"
        }
      ],
      "source": [
        "data.loc[data['Insulin'] > 500]"
      ]
    },
    {
      "cell_type": "code",
      "execution_count": 51,
      "id": "26c87b15",
      "metadata": {
        "execution": {
          "iopub.execute_input": "2023-01-21T21:02:13.325753Z",
          "iopub.status.busy": "2023-01-21T21:02:13.325363Z",
          "iopub.status.idle": "2023-01-21T21:02:13.331607Z",
          "shell.execute_reply": "2023-01-21T21:02:13.330815Z"
        },
        "id": "26c87b15",
        "papermill": {
          "duration": 0.03633,
          "end_time": "2023-01-21T21:02:13.333804",
          "exception": false,
          "start_time": "2023-01-21T21:02:13.297474",
          "status": "completed"
        },
        "tags": []
      },
      "outputs": [],
      "source": [
        "data.loc[data['Insulin'] > 500 , 'Insulin'] = np.nan"
      ]
    },
    {
      "cell_type": "code",
      "execution_count": 52,
      "id": "129d76db",
      "metadata": {
        "execution": {
          "iopub.execute_input": "2023-01-21T21:02:13.386304Z",
          "iopub.status.busy": "2023-01-21T21:02:13.385250Z",
          "iopub.status.idle": "2023-01-21T21:02:13.593028Z",
          "shell.execute_reply": "2023-01-21T21:02:13.592216Z"
        },
        "id": "129d76db",
        "outputId": "0c42c685-197c-4460-cb19-ef11832fd4b5",
        "papermill": {
          "duration": 0.236273,
          "end_time": "2023-01-21T21:02:13.595326",
          "exception": false,
          "start_time": "2023-01-21T21:02:13.359053",
          "status": "completed"
        },
        "tags": [],
        "colab": {
          "base_uri": "https://localhost:8080/",
          "height": 296
        }
      },
      "outputs": [
        {
          "output_type": "execute_result",
          "data": {
            "text/plain": [
              "<matplotlib.axes._subplots.AxesSubplot at 0x7f8e2aa9f790>"
            ]
          },
          "metadata": {},
          "execution_count": 52
        },
        {
          "output_type": "display_data",
          "data": {
            "text/plain": [
              "<Figure size 432x288 with 1 Axes>"
            ],
            "image/png": "[encoded data removed]"
          },
          "metadata": {
            "needs_background": "light"
          }
        }
      ],
      "source": [
        "sns.histplot(data['Insulin'])"
      ]
    },
    {
      "cell_type": "markdown",
      "id": "66b9efbe",
      "metadata": {
        "id": "66b9efbe",
        "papermill": {
          "duration": 0.02451,
          "end_time": "2023-01-21T21:02:13.645121",
          "exception": false,
          "start_time": "2023-01-21T21:02:13.620611",
          "status": "completed"
        },
        "tags": []
      },
      "source": [
        "**BMI**"
      ]
    },
    {
      "cell_type": "code",
      "execution_count": 53,
      "id": "8f1ea7ea",
      "metadata": {
        "execution": {
          "iopub.execute_input": "2023-01-21T21:02:13.698812Z",
          "iopub.status.busy": "2023-01-21T21:02:13.697745Z",
          "iopub.status.idle": "2023-01-21T21:02:13.971171Z",
          "shell.execute_reply": "2023-01-21T21:02:13.970005Z"
        },
        "id": "8f1ea7ea",
        "outputId": "c562b3b4-8e41-4b0a-ad5f-074f59c85337",
        "papermill": {
          "duration": 0.302734,
          "end_time": "2023-01-21T21:02:13.973576",
          "exception": false,
          "start_time": "2023-01-21T21:02:13.670842",
          "status": "completed"
        },
        "tags": [],
        "colab": {
          "base_uri": "https://localhost:8080/",
          "height": 296
        }
      },
      "outputs": [
        {
          "output_type": "execute_result",
          "data": {
            "text/plain": [
              "<matplotlib.axes._subplots.AxesSubplot at 0x7f8e2aa29b20>"
            ]
          },
          "metadata": {},
          "execution_count": 53
        },
        {
          "output_type": "display_data",
          "data": {
            "text/plain": [
              "<Figure size 432x288 with 1 Axes>"
            ],
            "image/png": "[encoded data removed]"
          },
          "metadata": {
            "needs_background": "light"
          }
        }
      ],
      "source": [
        "sns.histplot(data['BMI'])"
      ]
    },
    {
      "cell_type": "code",
      "execution_count": 54,
      "id": "c3fb7a75",
      "metadata": {
        "execution": {
          "iopub.execute_input": "2023-01-21T21:02:14.026740Z",
          "iopub.status.busy": "2023-01-21T21:02:14.026101Z",
          "iopub.status.idle": "2023-01-21T21:02:14.032207Z",
          "shell.execute_reply": "2023-01-21T21:02:14.031305Z"
        },
        "id": "c3fb7a75",
        "papermill": {
          "duration": 0.034845,
          "end_time": "2023-01-21T21:02:14.034412",
          "exception": false,
          "start_time": "2023-01-21T21:02:13.999567",
          "status": "completed"
        },
        "tags": []
      },
      "outputs": [],
      "source": [
        "data.loc[data['BMI'] == 0 , 'BMI'] = np.nan"
      ]
    },
    {
      "cell_type": "code",
      "execution_count": 55,
      "id": "f1eee968",
      "metadata": {
        "execution": {
          "iopub.execute_input": "2023-01-21T21:02:14.088653Z",
          "iopub.status.busy": "2023-01-21T21:02:14.087973Z",
          "iopub.status.idle": "2023-01-21T21:02:14.259781Z",
          "shell.execute_reply": "2023-01-21T21:02:14.258984Z"
        },
        "id": "f1eee968",
        "outputId": "5c51b6bc-b4c9-4577-b02f-0acc7a8ab90e",
        "papermill": {
          "duration": 0.201391,
          "end_time": "2023-01-21T21:02:14.261964",
          "exception": false,
          "start_time": "2023-01-21T21:02:14.060573",
          "status": "completed"
        },
        "tags": [],
        "colab": {
          "base_uri": "https://localhost:8080/",
          "height": 296
        }
      },
      "outputs": [
        {
          "output_type": "execute_result",
          "data": {
            "text/plain": [
              "<matplotlib.axes._subplots.AxesSubplot at 0x7f8e2a9b5eb0>"
            ]
          },
          "metadata": {},
          "execution_count": 55
        },
        {
          "output_type": "display_data",
          "data": {
            "text/plain": [
              "<Figure size 432x288 with 1 Axes>"
            ],
            "image/png": "[encoded data removed]"
          },
          "metadata": {
            "needs_background": "light"
          }
        }
      ],
      "source": [
        "sns.boxplot(data['BMI'])"
      ]
    },
    {
      "cell_type": "code",
      "execution_count": 56,
      "id": "ea99e9ec",
      "metadata": {
        "execution": {
          "iopub.execute_input": "2023-01-21T21:02:14.317490Z",
          "iopub.status.busy": "2023-01-21T21:02:14.316813Z",
          "iopub.status.idle": "2023-01-21T21:02:14.331482Z",
          "shell.execute_reply": "2023-01-21T21:02:14.330372Z"
        },
        "id": "ea99e9ec",
        "outputId": "84a7968a-7e27-44f5-d160-6dc9e254543e",
        "papermill": {
          "duration": 0.045892,
          "end_time": "2023-01-21T21:02:14.333698",
          "exception": false,
          "start_time": "2023-01-21T21:02:14.287806",
          "status": "completed"
        },
        "tags": [],
        "colab": {
          "base_uri": "https://localhost:8080/",
          "height": 81
        }
      },
      "outputs": [
        {
          "output_type": "execute_result",
          "data": {
            "text/plain": [
              "    No_Times_Pregnant  Plasma_Glucose  Diastolic_BP  Triceps  Insulin   BMI  \\\n",
              "86                0.0           129.0         110.0     46.0    130.0  67.1   \n",
              "\n",
              "    Age  Diabetes  \n",
              "86   26         1  "
            ],
            "text/html": [
              "\n",
              "  <div id=\"df-52e08c49-db89-4e56-a1b7-6b9c2aea1a1e\">\n",
              "    <div class=\"colab-df-container\">\n",
              "      <div>\n",
              "<style scoped>\n",
              "    .dataframe tbody tr th:only-of-type {\n",
              "        vertical-align: middle;\n",
              "    }\n",
              "\n",
              "    .dataframe tbody tr th {\n",
              "        vertical-align: top;\n",
              "    }\n",
              "\n",
              "    .dataframe thead th {\n",
              "        text-align: right;\n",
              "    }\n",
              "</style>\n",
              "<table border=\"1\" class=\"dataframe\">\n",
              "  <thead>\n",
              "    <tr style=\"text-align: right;\">\n",
              "      <th></th>\n",
              "      <th>No_Times_Pregnant</th>\n",
              "      <th>Plasma_Glucose</th>\n",
              "      <th>Diastolic_BP</th>\n",
              "      <th>Triceps</th>\n",
              "      <th>Insulin</th>\n",
              "      <th>BMI</th>\n",
              "      <th>Age</th>\n",
              "      <th>Diabetes</th>\n",
              "    </tr>\n",
              "  </thead>\n",
              "  <tbody>\n",
              "    <tr>\n",
              "      <th>86</th>\n",
              "      <td>0.0</td>\n",
              "      <td>129.0</td>\n",
              "      <td>110.0</td>\n",
              "      <td>46.0</td>\n",
              "      <td>130.0</td>\n",
              "      <td>67.1</td>\n",
              "      <td>26</td>\n",
              "      <td>1</td>\n",
              "    </tr>\n",
              "  </tbody>\n",
              "</table>\n",
              "</div>\n",
              "      <button class=\"colab-df-convert\" onclick=\"convertToInteractive('df-52e08c49-db89-4e56-a1b7-6b9c2aea1a1e')\"\n",
              "              title=\"Convert this dataframe to an interactive table.\"\n",
              "              style=\"display:none;\">\n",
              "        \n",
              "  <svg xmlns=\"http://www.w3.org/2000/svg\" height=\"24px\"viewBox=\"0 0 24 24\"\n",
              "       width=\"24px\">\n",
              "    <path d=\"M0 0h24v24H0V0z\" fill=\"none\"/>\n",
              "    <path d=\"M18.56 5.44l.94 2.06.94-2.06 2.06-.94-2.06-.94-.94-2.06-.94 2.06-2.06.94zm-11 1L8.5 8.5l.94-2.06 2.06-.94-2.06-.94L8.5 2.5l-.94 2.06-2.06.94zm10 10l.94 2.06.94-2.06 2.06-.94-2.06-.94-.94-2.06-.94 2.06-2.06.94z\"/><path d=\"M17.41 7.96l-1.37-1.37c-.4-.4-.92-.59-1.43-.59-.52 0-1.04.2-1.43.59L10.3 9.45l-7.72 7.72c-.78.78-.78 2.05 0 2.83L4 21.41c.39.39.9.59 1.41.59.51 0 1.02-.2 1.41-.59l7.78-7.78 2.81-2.81c.8-.78.8-2.07 0-2.86zM5.41 20L4 18.59l7.72-7.72 1.47 1.35L5.41 20z\"/>\n",
              "  </svg>\n",
              "      </button>\n",
              "      \n",
              "  <style>\n",
              "    .colab-df-container {\n",
              "      display:flex;\n",
              "      flex-wrap:wrap;\n",
              "      gap: 12px;\n",
              "    }\n",
              "\n",
              "    .colab-df-convert {\n",
              "      background-color: #E8F0FE;\n",
              "      border: none;\n",
              "      border-radius: 50%;\n",
              "      cursor: pointer;\n",
              "      display: none;\n",
              "      fill: #1967D2;\n",
              "      height: 32px;\n",
              "      padding: 0 0 0 0;\n",
              "      width: 32px;\n",
              "    }\n",
              "\n",
              "    .colab-df-convert:hover {\n",
              "      background-color: #E2EBFA;\n",
              "      box-shadow: 0px 1px 2px rgba(60, 64, 67, 0.3), 0px 1px 3px 1px rgba(60, 64, 67, 0.15);\n",
              "      fill: #174EA6;\n",
              "    }\n",
              "\n",
              "    [theme=dark] .colab-df-convert {\n",
              "      background-color: #3B4455;\n",
              "      fill: #D2E3FC;\n",
              "    }\n",
              "\n",
              "    [theme=dark] .colab-df-convert:hover {\n",
              "      background-color: #434B5C;\n",
              "      box-shadow: 0px 1px 3px 1px rgba(0, 0, 0, 0.15);\n",
              "      filter: drop-shadow(0px 1px 2px rgba(0, 0, 0, 0.3));\n",
              "      fill: #FFFFFF;\n",
              "    }\n",
              "  </style>\n",
              "\n",
              "      <script>\n",
              "        const buttonEl =\n",
              "          document.querySelector('#df-52e08c49-db89-4e56-a1b7-6b9c2aea1a1e button.colab-df-convert');\n",
              "        buttonEl.style.display =\n",
              "          google.colab.kernel.accessAllowed ? 'block' : 'none';\n",
              "\n",
              "        async function convertToInteractive(key) {\n",
              "          const element = document.querySelector('#df-52e08c49-db89-4e56-a1b7-6b9c2aea1a1e');\n",
              "          const dataTable =\n",
              "            await google.colab.kernel.invokeFunction('convertToInteractive',\n",
              "                                                     [key], {});\n",
              "          if (!dataTable) return;\n",
              "\n",
              "          const docLinkHtml = 'Like what you see? Visit the ' +\n",
              "            '<a target=\"_blank\" href=https://colab.research.google.com/notebooks/data_table.ipynb>data table notebook</a>'\n",
              "            + ' to learn more about interactive tables.';\n",
              "          element.innerHTML = '';\n",
              "          dataTable['output_type'] = 'display_data';\n",
              "          await google.colab.output.renderOutput(dataTable, element);\n",
              "          const docLink = document.createElement('div');\n",
              "          docLink.innerHTML = docLinkHtml;\n",
              "          element.appendChild(docLink);\n",
              "        }\n",
              "      </script>\n",
              "    </div>\n",
              "  </div>\n",
              "  "
            ]
          },
          "metadata": {},
          "execution_count": 56
        }
      ],
      "source": [
        "data.loc[data['BMI'] > 60]"
      ]
    },
    {
      "cell_type": "markdown",
      "id": "015cdb5a",
      "metadata": {
        "id": "015cdb5a",
        "papermill": {
          "duration": 0.026994,
          "end_time": "2023-01-21T21:02:15.019600",
          "exception": false,
          "start_time": "2023-01-21T21:02:14.992606",
          "status": "completed"
        },
        "tags": []
      },
      "source": [
        "**Age**"
      ]
    },
    {
      "cell_type": "code",
      "execution_count": 58,
      "id": "057f2e80",
      "metadata": {
        "execution": {
          "iopub.execute_input": "2023-01-21T21:02:15.076072Z",
          "iopub.status.busy": "2023-01-21T21:02:15.075634Z",
          "iopub.status.idle": "2023-01-21T21:02:15.279263Z",
          "shell.execute_reply": "2023-01-21T21:02:15.278115Z"
        },
        "id": "057f2e80",
        "outputId": "76d16393-c015-4efd-cd0e-dba75d548969",
        "papermill": {
          "duration": 0.234873,
          "end_time": "2023-01-21T21:02:15.281644",
          "exception": false,
          "start_time": "2023-01-21T21:02:15.046771",
          "status": "completed"
        },
        "tags": [],
        "colab": {
          "base_uri": "https://localhost:8080/",
          "height": 298
        }
      },
      "outputs": [
        {
          "output_type": "execute_result",
          "data": {
            "text/plain": [
              "<matplotlib.axes._subplots.AxesSubplot at 0x7f8e2a8fc8b0>"
            ]
          },
          "metadata": {},
          "execution_count": 58
        },
        {
          "output_type": "display_data",
          "data": {
            "text/plain": [
              "<Figure size 432x288 with 1 Axes>"
            ],
            "image/png": "[encoded data removed]"
          },
          "metadata": {
            "needs_background": "light"
          }
        }
      ],
      "source": [
        "sns.histplot(data['Age'])"
      ]
    },
    {
      "cell_type": "code",
      "execution_count": 59,
      "id": "6463fe03",
      "metadata": {
        "execution": {
          "iopub.execute_input": "2023-01-21T21:02:15.339741Z",
          "iopub.status.busy": "2023-01-21T21:02:15.339325Z",
          "iopub.status.idle": "2023-01-21T21:02:15.520290Z",
          "shell.execute_reply": "2023-01-21T21:02:15.519372Z"
        },
        "id": "6463fe03",
        "outputId": "dcaefcaa-582d-4eb0-ebd0-b68d143c5402",
        "papermill": {
          "duration": 0.212849,
          "end_time": "2023-01-21T21:02:15.522393",
          "exception": false,
          "start_time": "2023-01-21T21:02:15.309544",
          "status": "completed"
        },
        "tags": [],
        "colab": {
          "base_uri": "https://localhost:8080/",
          "height": 296
        }
      },
      "outputs": [
        {
          "output_type": "execute_result",
          "data": {
            "text/plain": [
              "<matplotlib.axes._subplots.AxesSubplot at 0x7f8e2aace640>"
            ]
          },
          "metadata": {},
          "execution_count": 59
        },
        {
          "output_type": "display_data",
          "data": {
            "text/plain": [
              "<Figure size 432x288 with 1 Axes>"
            ],
            "image/png": "[encoded data removed]"
          },
          "metadata": {
            "needs_background": "light"
          }
        }
      ],
      "source": [
        "sns.boxplot(data['Age'])"
      ]
    },
    {
      "cell_type": "markdown",
      "id": "a1e0b536",
      "metadata": {
        "id": "a1e0b536",
        "papermill": {
          "duration": 0.026981,
          "end_time": "2023-01-21T21:02:15.576852",
          "exception": false,
          "start_time": "2023-01-21T21:02:15.549871",
          "status": "completed"
        },
        "tags": []
      },
      "source": [
        "**Diabetes**"
      ]
    },
    {
      "cell_type": "code",
      "execution_count": 61,
      "id": "5df94b45",
      "metadata": {
        "execution": {
          "iopub.execute_input": "2023-01-21T21:02:15.632776Z",
          "iopub.status.busy": "2023-01-21T21:02:15.632037Z",
          "iopub.status.idle": "2023-01-21T21:02:15.812149Z",
          "shell.execute_reply": "2023-01-21T21:02:15.810889Z"
        },
        "id": "5df94b45",
        "outputId": "8b64b58b-1aaa-40c8-b4fc-0867e13b0fcc",
        "papermill": {
          "duration": 0.21073,
          "end_time": "2023-01-21T21:02:15.814508",
          "exception": false,
          "start_time": "2023-01-21T21:02:15.603778",
          "status": "completed"
        },
        "tags": [],
        "colab": {
          "base_uri": "https://localhost:8080/",
          "height": 296
        }
      },
      "outputs": [
        {
          "output_type": "execute_result",
          "data": {
            "text/plain": [
              "<matplotlib.axes._subplots.AxesSubplot at 0x7f8e2a867040>"
            ]
          },
          "metadata": {},
          "execution_count": 61
        },
        {
          "output_type": "display_data",
          "data": {
            "text/plain": [
              "<Figure size 432x288 with 1 Axes>"
            ],
            "image/png": "[encoded data removed]"
          },
          "metadata": {
            "needs_background": "light"
          }
        }
      ],
      "source": [
        "sns.countplot(data['Diabetes'])"
      ]
    },
    {
      "cell_type": "markdown",
      "id": "7782db1a",
      "metadata": {
        "id": "7782db1a",
        "papermill": {
          "duration": 0.028082,
          "end_time": "2023-01-21T21:02:15.870450",
          "exception": false,
          "start_time": "2023-01-21T21:02:15.842368",
          "status": "completed"
        },
        "tags": []
      },
      "source": [
        "# Correlation"
      ]
    },
    {
      "cell_type": "code",
      "execution_count": 62,
      "id": "91bcfd64",
      "metadata": {
        "execution": {
          "iopub.execute_input": "2023-01-21T21:02:15.928439Z",
          "iopub.status.busy": "2023-01-21T21:02:15.927627Z",
          "iopub.status.idle": "2023-01-21T21:02:16.503990Z",
          "shell.execute_reply": "2023-01-21T21:02:16.502818Z"
        },
        "id": "91bcfd64",
        "outputId": "7fbf61b5-edbc-4cc6-bba8-5ed20d7cd8b7",
        "papermill": {
          "duration": 0.608594,
          "end_time": "2023-01-21T21:02:16.506652",
          "exception": false,
          "start_time": "2023-01-21T21:02:15.898058",
          "status": "completed"
        },
        "tags": [],
        "colab": {
          "base_uri": "https://localhost:8080/",
          "height": 428
        }
      },
      "outputs": [
        {
          "output_type": "display_data",
          "data": {
            "text/plain": [
              "<Figure size 1152x432 with 2 Axes>"
            ],
            "image/png": "[encoded data removed]"
          },
          "metadata": {
            "needs_background": "light"
          }
        }
      ],
      "source": [
        "plt.figure(figsize=(16, 6))\n",
        "mask = np.triu(np.ones_like(data.corr(), dtype=np.bool))\n",
        "heatmap = sns.heatmap(data.corr(), mask=mask, vmin=-1, vmax=1, annot=True, cmap='BrBG')\n",
        "heatmap.set_title('Correlation', fontdict={'fontsize':18}, pad=16);"
      ]
    },
    {
      "cell_type": "markdown",
      "id": "dd10ce4d",
      "metadata": {
        "id": "dd10ce4d",
        "papermill": {
          "duration": 0.028962,
          "end_time": "2023-01-21T21:02:16.564472",
          "exception": false,
          "start_time": "2023-01-21T21:02:16.535510",
          "status": "completed"
        },
        "tags": []
      },
      "source": [
        "# Missing Data"
      ]
    },
    {
      "cell_type": "code",
      "execution_count": 63,
      "id": "3a32d664",
      "metadata": {
        "execution": {
          "iopub.execute_input": "2023-01-21T21:02:16.625801Z",
          "iopub.status.busy": "2023-01-21T21:02:16.624787Z",
          "iopub.status.idle": "2023-01-21T21:02:16.642111Z",
          "shell.execute_reply": "2023-01-21T21:02:16.640961Z"
        },
        "id": "3a32d664",
        "outputId": "0e5e96b7-28a0-49bd-efd2-721435216d07",
        "papermill": {
          "duration": 0.050423,
          "end_time": "2023-01-21T21:02:16.644619",
          "exception": false,
          "start_time": "2023-01-21T21:02:16.594196",
          "status": "completed"
        },
        "tags": [],
        "colab": {
          "base_uri": "https://localhost:8080/",
          "height": 206
        }
      },
      "outputs": [
        {
          "output_type": "execute_result",
          "data": {
            "text/plain": [
              "   No_Times_Pregnant  Plasma_Glucose  Diastolic_BP  Triceps  Insulin   BMI  \\\n",
              "0                1.0            89.0          66.0     23.0     94.0  28.1   \n",
              "1                0.0           137.0          40.0     35.0    168.0  43.1   \n",
              "2                3.0            78.0          50.0     32.0     88.0  31.0   \n",
              "3                2.0           197.0          70.0     45.0      NaN  30.5   \n",
              "4                1.0           189.0          60.0     23.0      NaN  30.1   \n",
              "\n",
              "   Age  Diabetes  \n",
              "0   21         0  \n",
              "1   33         1  \n",
              "2   26         1  \n",
              "3   53         1  \n",
              "4   59         1  "
            ],
            "text/html": [
              "\n",
              "  <div id=\"df-f04b932b-e850-4225-83e7-358646f6f914\">\n",
              "    <div class=\"colab-df-container\">\n",
              "      <div>\n",
              "<style scoped>\n",
              "    .dataframe tbody tr th:only-of-type {\n",
              "        vertical-align: middle;\n",
              "    }\n",
              "\n",
              "    .dataframe tbody tr th {\n",
              "        vertical-align: top;\n",
              "    }\n",
              "\n",
              "    .dataframe thead th {\n",
              "        text-align: right;\n",
              "    }\n",
              "</style>\n",
              "<table border=\"1\" class=\"dataframe\">\n",
              "  <thead>\n",
              "    <tr style=\"text-align: right;\">\n",
              "      <th></th>\n",
              "      <th>No_Times_Pregnant</th>\n",
              "      <th>Plasma_Glucose</th>\n",
              "      <th>Diastolic_BP</th>\n",
              "      <th>Triceps</th>\n",
              "      <th>Insulin</th>\n",
              "      <th>BMI</th>\n",
              "      <th>Age</th>\n",
              "      <th>Diabetes</th>\n",
              "    </tr>\n",
              "  </thead>\n",
              "  <tbody>\n",
              "    <tr>\n",
              "      <th>0</th>\n",
              "      <td>1.0</td>\n",
              "      <td>89.0</td>\n",
              "      <td>66.0</td>\n",
              "      <td>23.0</td>\n",
              "      <td>94.0</td>\n",
              "      <td>28.1</td>\n",
              "      <td>21</td>\n",
              "      <td>0</td>\n",
              "    </tr>\n",
              "    <tr>\n",
              "      <th>1</th>\n",
              "      <td>0.0</td>\n",
              "      <td>137.0</td>\n",
              "      <td>40.0</td>\n",
              "      <td>35.0</td>\n",
              "      <td>168.0</td>\n",
              "      <td>43.1</td>\n",
              "      <td>33</td>\n",
              "      <td>1</td>\n",
              "    </tr>\n",
              "    <tr>\n",
              "      <th>2</th>\n",
              "      <td>3.0</td>\n",
              "      <td>78.0</td>\n",
              "      <td>50.0</td>\n",
              "      <td>32.0</td>\n",
              "      <td>88.0</td>\n",
              "      <td>31.0</td>\n",
              "      <td>26</td>\n",
              "      <td>1</td>\n",
              "    </tr>\n",
              "    <tr>\n",
              "      <th>3</th>\n",
              "      <td>2.0</td>\n",
              "      <td>197.0</td>\n",
              "      <td>70.0</td>\n",
              "      <td>45.0</td>\n",
              "      <td>NaN</td>\n",
              "      <td>30.5</td>\n",
              "      <td>53</td>\n",
              "      <td>1</td>\n",
              "    </tr>\n",
              "    <tr>\n",
              "      <th>4</th>\n",
              "      <td>1.0</td>\n",
              "      <td>189.0</td>\n",
              "      <td>60.0</td>\n",
              "      <td>23.0</td>\n",
              "      <td>NaN</td>\n",
              "      <td>30.1</td>\n",
              "      <td>59</td>\n",
              "      <td>1</td>\n",
              "    </tr>\n",
              "  </tbody>\n",
              "</table>\n",
              "</div>\n",
              "      <button class=\"colab-df-convert\" onclick=\"convertToInteractive('df-f04b932b-e850-4225-83e7-358646f6f914')\"\n",
              "              title=\"Convert this dataframe to an interactive table.\"\n",
              "              style=\"display:none;\">\n",
              "        \n",
              "  <svg xmlns=\"http://www.w3.org/2000/svg\" height=\"24px\"viewBox=\"0 0 24 24\"\n",
              "       width=\"24px\">\n",
              "    <path d=\"M0 0h24v24H0V0z\" fill=\"none\"/>\n",
              "    <path d=\"M18.56 5.44l.94 2.06.94-2.06 2.06-.94-2.06-.94-.94-2.06-.94 2.06-2.06.94zm-11 1L8.5 8.5l.94-2.06 2.06-.94-2.06-.94L8.5 2.5l-.94 2.06-2.06.94zm10 10l.94 2.06.94-2.06 2.06-.94-2.06-.94-.94-2.06-.94 2.06-2.06.94z\"/><path d=\"M17.41 7.96l-1.37-1.37c-.4-.4-.92-.59-1.43-.59-.52 0-1.04.2-1.43.59L10.3 9.45l-7.72 7.72c-.78.78-.78 2.05 0 2.83L4 21.41c.39.39.9.59 1.41.59.51 0 1.02-.2 1.41-.59l7.78-7.78 2.81-2.81c.8-.78.8-2.07 0-2.86zM5.41 20L4 18.59l7.72-7.72 1.47 1.35L5.41 20z\"/>\n",
              "  </svg>\n",
              "      </button>\n",
              "      \n",
              "  <style>\n",
              "    .colab-df-container {\n",
              "      display:flex;\n",
              "      flex-wrap:wrap;\n",
              "      gap: 12px;\n",
              "    }\n",
              "\n",
              "    .colab-df-convert {\n",
              "      background-color: #E8F0FE;\n",
              "      border: none;\n",
              "      border-radius: 50%;\n",
              "      cursor: pointer;\n",
              "      display: none;\n",
              "      fill: #1967D2;\n",
              "      height: 32px;\n",
              "      padding: 0 0 0 0;\n",
              "      width: 32px;\n",
              "    }\n",
              "\n",
              "    .colab-df-convert:hover {\n",
              "      background-color: #E2EBFA;\n",
              "      box-shadow: 0px 1px 2px rgba(60, 64, 67, 0.3), 0px 1px 3px 1px rgba(60, 64, 67, 0.15);\n",
              "      fill: #174EA6;\n",
              "    }\n",
              "\n",
              "    [theme=dark] .colab-df-convert {\n",
              "      background-color: #3B4455;\n",
              "      fill: #D2E3FC;\n",
              "    }\n",
              "\n",
              "    [theme=dark] .colab-df-convert:hover {\n",
              "      background-color: #434B5C;\n",
              "      box-shadow: 0px 1px 3px 1px rgba(0, 0, 0, 0.15);\n",
              "      filter: drop-shadow(0px 1px 2px rgba(0, 0, 0, 0.3));\n",
              "      fill: #FFFFFF;\n",
              "    }\n",
              "  </style>\n",
              "\n",
              "      <script>\n",
              "        const buttonEl =\n",
              "          document.querySelector('#df-f04b932b-e850-4225-83e7-358646f6f914 button.colab-df-convert');\n",
              "        buttonEl.style.display =\n",
              "          google.colab.kernel.accessAllowed ? 'block' : 'none';\n",
              "\n",
              "        async function convertToInteractive(key) {\n",
              "          const element = document.querySelector('#df-f04b932b-e850-4225-83e7-358646f6f914');\n",
              "          const dataTable =\n",
              "            await google.colab.kernel.invokeFunction('convertToInteractive',\n",
              "                                                     [key], {});\n",
              "          if (!dataTable) return;\n",
              "\n",
              "          const docLinkHtml = 'Like what you see? Visit the ' +\n",
              "            '<a target=\"_blank\" href=https://colab.research.google.com/notebooks/data_table.ipynb>data table notebook</a>'\n",
              "            + ' to learn more about interactive tables.';\n",
              "          element.innerHTML = '';\n",
              "          dataTable['output_type'] = 'display_data';\n",
              "          await google.colab.output.renderOutput(dataTable, element);\n",
              "          const docLink = document.createElement('div');\n",
              "          docLink.innerHTML = docLinkHtml;\n",
              "          element.appendChild(docLink);\n",
              "        }\n",
              "      </script>\n",
              "    </div>\n",
              "  </div>\n",
              "  "
            ]
          },
          "metadata": {},
          "execution_count": 63
        }
      ],
      "source": [
        "data.head()"
      ]
    },
    {
      "cell_type": "code",
      "execution_count": 64,
      "id": "2cf01cec",
      "metadata": {
        "execution": {
          "iopub.execute_input": "2023-01-21T21:02:16.706201Z",
          "iopub.status.busy": "2023-01-21T21:02:16.705015Z",
          "iopub.status.idle": "2023-01-21T21:02:16.714888Z",
          "shell.execute_reply": "2023-01-21T21:02:16.713834Z"
        },
        "id": "2cf01cec",
        "outputId": "78bd9b82-e2ed-456e-f634-9d2a26eb140a",
        "papermill": {
          "duration": 0.042793,
          "end_time": "2023-01-21T21:02:16.717024",
          "exception": false,
          "start_time": "2023-01-21T21:02:16.674231",
          "status": "completed"
        },
        "tags": [],
        "colab": {
          "base_uri": "https://localhost:8080/"
        }
      },
      "outputs": [
        {
          "output_type": "execute_result",
          "data": {
            "text/plain": [
              "No_Times_Pregnant    11\n",
              "Plasma_Glucose        0\n",
              "Diastolic_BP          4\n",
              "Triceps              11\n",
              "Insulin               9\n",
              "BMI                   0\n",
              "Age                   0\n",
              "Diabetes              0\n",
              "dtype: int64"
            ]
          },
          "metadata": {},
          "execution_count": 64
        }
      ],
      "source": [
        "data.isnull().sum()"
      ]
    },
    {
      "cell_type": "code",
      "execution_count": 65,
      "id": "6c0a658b",
      "metadata": {
        "execution": {
          "iopub.execute_input": "2023-01-21T21:02:16.777743Z",
          "iopub.status.busy": "2023-01-21T21:02:16.777343Z",
          "iopub.status.idle": "2023-01-21T21:02:16.783379Z",
          "shell.execute_reply": "2023-01-21T21:02:16.782331Z"
        },
        "id": "6c0a658b",
        "papermill": {
          "duration": 0.038373,
          "end_time": "2023-01-21T21:02:16.785475",
          "exception": false,
          "start_time": "2023-01-21T21:02:16.747102",
          "status": "completed"
        },
        "tags": []
      },
      "outputs": [],
      "source": [
        "X = data.drop(columns=['Diabetes'])\n",
        "y = data['Diabetes']"
      ]
    },
    {
      "cell_type": "code",
      "execution_count": 66,
      "id": "f7c08d23",
      "metadata": {
        "execution": {
          "iopub.execute_input": "2023-01-21T21:02:16.846232Z",
          "iopub.status.busy": "2023-01-21T21:02:16.845694Z",
          "iopub.status.idle": "2023-01-21T21:02:16.856294Z",
          "shell.execute_reply": "2023-01-21T21:02:16.855482Z"
        },
        "id": "f7c08d23",
        "outputId": "29520324-70d4-45b2-c7a6-a3798eb54582",
        "papermill": {
          "duration": 0.04356,
          "end_time": "2023-01-21T21:02:16.858408",
          "exception": false,
          "start_time": "2023-01-21T21:02:16.814848",
          "status": "completed"
        },
        "tags": [],
        "colab": {
          "base_uri": "https://localhost:8080/"
        }
      },
      "outputs": [
        {
          "output_type": "execute_result",
          "data": {
            "text/plain": [
              "KNNImputer()"
            ]
          },
          "metadata": {},
          "execution_count": 66
        }
      ],
      "source": [
        "imputer = KNNImputer(n_neighbors=5)\n",
        "imputer.fit(X)"
      ]
    },
    {
      "cell_type": "code",
      "execution_count": 67,
      "id": "4aebcdf3",
      "metadata": {
        "execution": {
          "iopub.execute_input": "2023-01-21T21:02:16.919418Z",
          "iopub.status.busy": "2023-01-21T21:02:16.918239Z",
          "iopub.status.idle": "2023-01-21T21:02:16.979883Z",
          "shell.execute_reply": "2023-01-21T21:02:16.978314Z"
        },
        "id": "4aebcdf3",
        "papermill": {
          "duration": 0.096576,
          "end_time": "2023-01-21T21:02:16.984337",
          "exception": false,
          "start_time": "2023-01-21T21:02:16.887761",
          "status": "completed"
        },
        "tags": []
      },
      "outputs": [],
      "source": [
        "X = imputer.transform(X)"
      ]
    },
    {
      "cell_type": "markdown",
      "id": "cbab8dcf",
      "metadata": {
        "id": "cbab8dcf",
        "papermill": {
          "duration": 0.03093,
          "end_time": "2023-01-21T21:02:17.091868",
          "exception": false,
          "start_time": "2023-01-21T21:02:17.060938",
          "status": "completed"
        },
        "tags": []
      },
      "source": [
        "# StandardScaler"
      ]
    },
    {
      "cell_type": "code",
      "execution_count": 68,
      "id": "e9e9d2f6",
      "metadata": {
        "execution": {
          "iopub.execute_input": "2023-01-21T21:02:17.152455Z",
          "iopub.status.busy": "2023-01-21T21:02:17.152058Z",
          "iopub.status.idle": "2023-01-21T21:02:17.158594Z",
          "shell.execute_reply": "2023-01-21T21:02:17.157515Z"
        },
        "id": "e9e9d2f6",
        "papermill": {
          "duration": 0.039598,
          "end_time": "2023-01-21T21:02:17.160873",
          "exception": false,
          "start_time": "2023-01-21T21:02:17.121275",
          "status": "completed"
        },
        "tags": []
      },
      "outputs": [],
      "source": [
        "st = StandardScaler()\n",
        "st.fit(X)\n",
        "X = st.transform(X)\n",
        "\n",
        "\n",
        "#new_value =(x-xmin)/(xmax-xmin)\n",
        "#inverse_scaler = (new_value * (xmax-xmin)) + Xmin"
      ]
    },
    {
      "cell_type": "markdown",
      "id": "0048b9c9",
      "metadata": {
        "id": "0048b9c9",
        "papermill": {
          "duration": 0.030492,
          "end_time": "2023-01-21T21:02:17.221926",
          "exception": false,
          "start_time": "2023-01-21T21:02:17.191434",
          "status": "completed"
        },
        "tags": []
      },
      "source": [
        "# Train Test Split"
      ]
    },
    {
      "cell_type": "code",
      "execution_count": 69,
      "id": "7e50c578",
      "metadata": {
        "execution": {
          "iopub.execute_input": "2023-01-21T21:02:17.285120Z",
          "iopub.status.busy": "2023-01-21T21:02:17.284676Z",
          "iopub.status.idle": "2023-01-21T21:02:17.291127Z",
          "shell.execute_reply": "2023-01-21T21:02:17.290250Z"
        },
        "id": "7e50c578",
        "papermill": {
          "duration": 0.040839,
          "end_time": "2023-01-21T21:02:17.293369",
          "exception": false,
          "start_time": "2023-01-21T21:02:17.252530",
          "status": "completed"
        },
        "tags": []
      },
      "outputs": [],
      "source": [
        "X_train, X_test, y_train, y_test = train_test_split(X, y, test_size=0.30, random_state=42)"
      ]
    },
    {
      "cell_type": "code",
      "source": [
        "X_train"
      ],
      "metadata": {
        "colab": {
          "base_uri": "https://localhost:8080/"
        },
        "id": "LnOs_ffuM_K5",
        "outputId": "3ee04347-50b0-4171-ba22-645d7451a32a"
      },
      "id": "LnOs_ffuM_K5",
      "execution_count": 82,
      "outputs": [
        {
          "output_type": "execute_result",
          "data": {
            "text/plain": [
              "array([[-0.75338552, -1.15593581,  0.58829416, ..., -1.21158416,\n",
              "         0.2156778 , -0.87014206],\n",
              "       [ 0.33504368, -0.37725587,  0.07959274, ...,  0.62322545,\n",
              "         0.57186964,  2.46719705],\n",
              "       [-0.39057579, -1.77239077, -0.76824297, ..., -1.38982281,\n",
              "        -1.8502349 , -0.77198503],\n",
              "       ...,\n",
              "       [-1.11619525, -0.18258588, -0.42910868, ...,  0.42401755,\n",
              "        -0.32573381, -0.87014206],\n",
              "       [-0.02776605,  0.01208411,  2.45353272, ...,  0.96921811,\n",
              "         3.44989974, -0.87014206],\n",
              "       [ 2.14909235, -0.34481087,  0.92742845, ...,  0.2877174 ,\n",
              "         0.1586871 ,  0.50405639]])"
            ]
          },
          "metadata": {},
          "execution_count": 82
        }
      ]
    },
    {
      "cell_type": "markdown",
      "id": "4a1b8fb6",
      "metadata": {
        "id": "4a1b8fb6",
        "papermill": {
          "duration": 0.029654,
          "end_time": "2023-01-21T21:02:17.353487",
          "exception": false,
          "start_time": "2023-01-21T21:02:17.323833",
          "status": "completed"
        },
        "tags": []
      },
      "source": [
        "# Model"
      ]
    },
    {
      "cell_type": "code",
      "execution_count": 72,
      "id": "be584900",
      "metadata": {
        "execution": {
          "iopub.execute_input": "2023-01-21T21:02:17.414009Z",
          "iopub.status.busy": "2023-01-21T21:02:17.413594Z",
          "iopub.status.idle": "2023-01-21T21:02:17.499153Z",
          "shell.execute_reply": "2023-01-21T21:02:17.498175Z"
        },
        "id": "be584900",
        "papermill": {
          "duration": 0.119283,
          "end_time": "2023-01-21T21:02:17.501940",
          "exception": false,
          "start_time": "2023-01-21T21:02:17.382657",
          "status": "completed"
        },
        "tags": []
      },
      "outputs": [],
      "source": [
        "from sklearn.linear_model import LogisticRegression\n",
        "from sklearn.tree import DecisionTreeClassifier\n",
        "from sklearn.ensemble import RandomForestClassifier\n",
        "from sklearn.neighbors import KNeighborsClassifier\n",
        "from sklearn.svm import SVC\n",
        "from sklearn.ensemble import AdaBoostClassifier\n",
        "from sklearn.ensemble import GradientBoostingClassifier\n",
        "from sklearn.ensemble import HistGradientBoostingClassifier\n",
        "\n",
        "models = {\n",
        "    \"lr\" : LogisticRegression(random_state=123),\n",
        "    \"DT\" : DecisionTreeClassifier(random_state=123),\n",
        "    \"RF\" : RandomForestClassifier(max_depth=2, random_state=123),\n",
        "    'KNN' : KNeighborsClassifier(),\n",
        "    \"SVM\" : SVC(),\n",
        "    \"Ada\" : AdaBoostClassifier(random_state=123),\n",
        "    \"GBC\" : GradientBoostingClassifier(random_state=123),\n",
        "    \"HGBC\" : HistGradientBoostingClassifier(random_state=123)\n",
        "}"
      ]
    },
    {
      "cell_type": "code",
      "execution_count": 73,
      "id": "36427dbe",
      "metadata": {
        "execution": {
          "iopub.execute_input": "2023-01-21T21:02:17.561966Z",
          "iopub.status.busy": "2023-01-21T21:02:17.561531Z",
          "iopub.status.idle": "2023-01-21T21:02:20.933602Z",
          "shell.execute_reply": "2023-01-21T21:02:20.932568Z"
        },
        "id": "36427dbe",
        "outputId": "6cfe6a05-d8e8-46a6-ce56-620d81f43010",
        "papermill": {
          "duration": 3.405458,
          "end_time": "2023-01-21T21:02:20.936547",
          "exception": false,
          "start_time": "2023-01-21T21:02:17.531089",
          "status": "completed"
        },
        "tags": [],
        "colab": {
          "base_uri": "https://localhost:8080/"
        }
      },
      "outputs": [
        {
          "output_type": "stream",
          "name": "stdout",
          "text": [
            "lr :\n",
            "[0.69090909 0.8        0.78181818 0.81818182 0.81481481]\n",
            "mean : 0.7811447811447813\n",
            "std : 0.04691239882734762\n",
            "\n",
            "\n",
            "DT :\n",
            "[0.8        0.69090909 0.74545455 0.63636364 0.72222222]\n",
            "mean : 0.718989898989899\n",
            "std : 0.05456939242780521\n",
            "\n",
            "\n",
            "RF :\n",
            "[0.72727273 0.70909091 0.76363636 0.78181818 0.7962963 ]\n",
            "mean : 0.7556228956228956\n",
            "std : 0.03278320309820466\n",
            "\n",
            "\n",
            "KNN :\n",
            "[0.78181818 0.76363636 0.72727273 0.78181818 0.77777778]\n",
            "mean : 0.7664646464646464\n",
            "std : 0.02070485329344478\n",
            "\n",
            "\n",
            "SVM :\n",
            "[0.69090909 0.78181818 0.76363636 0.81818182 0.7962963 ]\n",
            "mean : 0.7701683501683502\n",
            "std : 0.04347039977592827\n",
            "\n",
            "\n",
            "Ada :\n",
            "[0.69090909 0.70909091 0.69090909 0.69090909 0.77777778]\n",
            "mean : 0.7119191919191918\n",
            "std : 0.033673804502649916\n",
            "\n",
            "\n",
            "GBC :\n",
            "[0.72727273 0.74545455 0.74545455 0.74545455 0.7962963 ]\n",
            "mean : 0.751986531986532\n",
            "std : 0.023247055300751947\n",
            "\n",
            "\n",
            "HGBC :\n",
            "[0.69090909 0.76363636 0.72727273 0.78181818 0.83333333]\n",
            "mean : 0.7593939393939394\n",
            "std : 0.04839385400649002\n",
            "\n",
            "\n"
          ]
        }
      ],
      "source": [
        "for model_name, model in models.items():\n",
        "    print(model_name + \" :\")\n",
        "    cv_scores = cross_val_score(model, X_train, y_train, cv=5)\n",
        "    print(cv_scores)\n",
        "    print(\"mean :\", cv_scores.mean())\n",
        "    print(\"std :\", cv_scores.std())\n",
        "    print(\"\\n\")"
      ]
    },
    {
      "cell_type": "markdown",
      "id": "b020b73d",
      "metadata": {
        "id": "b020b73d",
        "papermill": {
          "duration": 0.029551,
          "end_time": "2023-01-21T21:02:21.003078",
          "exception": false,
          "start_time": "2023-01-21T21:02:20.973527",
          "status": "completed"
        },
        "tags": []
      },
      "source": [
        "# GridSearch for Fine-Tune Model"
      ]
    },
    {
      "cell_type": "code",
      "execution_count": 74,
      "id": "6b0f52c3",
      "metadata": {
        "execution": {
          "iopub.execute_input": "2023-01-21T21:02:21.063521Z",
          "iopub.status.busy": "2023-01-21T21:02:21.063136Z",
          "iopub.status.idle": "2023-01-21T21:02:22.361880Z",
          "shell.execute_reply": "2023-01-21T21:02:22.360822Z"
        },
        "id": "6b0f52c3",
        "outputId": "6af3173d-1a06-4a4d-d101-783008a2b563",
        "papermill": {
          "duration": 1.332341,
          "end_time": "2023-01-21T21:02:22.364607",
          "exception": false,
          "start_time": "2023-01-21T21:02:21.032266",
          "status": "completed"
        },
        "tags": [],
        "colab": {
          "base_uri": "https://localhost:8080/"
        }
      },
      "outputs": [
        {
          "output_type": "stream",
          "name": "stdout",
          "text": [
            "gridSearch Best Score : 0.7885230179028133\n",
            "gridSearch Best params : {'learning_rate': 1, 'n_estimators': 10}\n"
          ]
        }
      ],
      "source": [
        "Ada = AdaBoostClassifier(random_state=123 )\n",
        "\n",
        "grid_list = {\n",
        "    \"learning_rate\": [1,0.01,0.001],\n",
        "    \"n_estimators\": [20,15,10,5],\n",
        "}\n",
        "              \n",
        "grid_search = GridSearchCV(Ada, param_grid = grid_list, cv = 4,) \n",
        "grid_search.fit(X_train , y_train)\n",
        "\n",
        "\n",
        "print(\"gridSearch Best Score :\",grid_search.best_score_)\n",
        "print(\"gridSearch Best params :\",grid_search.best_params_)"
      ]
    },
    {
      "cell_type": "markdown",
      "id": "1b052f96",
      "metadata": {
        "id": "1b052f96",
        "papermill": {
          "duration": 0.029621,
          "end_time": "2023-01-21T21:02:22.424971",
          "exception": false,
          "start_time": "2023-01-21T21:02:22.395350",
          "status": "completed"
        },
        "tags": []
      },
      "source": [
        "**Best Model**"
      ]
    },
    {
      "cell_type": "code",
      "execution_count": 75,
      "id": "c7330d69",
      "metadata": {
        "execution": {
          "iopub.execute_input": "2023-01-21T21:02:22.486516Z",
          "iopub.status.busy": "2023-01-21T21:02:22.486128Z",
          "iopub.status.idle": "2023-01-21T21:02:22.490762Z",
          "shell.execute_reply": "2023-01-21T21:02:22.489963Z"
        },
        "id": "c7330d69",
        "papermill": {
          "duration": 0.038618,
          "end_time": "2023-01-21T21:02:22.492745",
          "exception": false,
          "start_time": "2023-01-21T21:02:22.454127",
          "status": "completed"
        },
        "tags": []
      },
      "outputs": [],
      "source": [
        "bestModel = AdaBoostClassifier(random_state=123 , learning_rate= 1, n_estimators= 20)"
      ]
    },
    {
      "cell_type": "code",
      "execution_count": 76,
      "id": "2251896a",
      "metadata": {
        "execution": {
          "iopub.execute_input": "2023-01-21T21:02:22.555502Z",
          "iopub.status.busy": "2023-01-21T21:02:22.554578Z",
          "iopub.status.idle": "2023-01-21T21:02:22.608790Z",
          "shell.execute_reply": "2023-01-21T21:02:22.607389Z"
        },
        "id": "2251896a",
        "outputId": "fdeb86f0-ee80-4265-b71e-30d5445f5de8",
        "papermill": {
          "duration": 0.088889,
          "end_time": "2023-01-21T21:02:22.612160",
          "exception": false,
          "start_time": "2023-01-21T21:02:22.523271",
          "status": "completed"
        },
        "tags": [],
        "colab": {
          "base_uri": "https://localhost:8080/"
        }
      },
      "outputs": [
        {
          "output_type": "stream",
          "name": "stdout",
          "text": [
            "              precision    recall  f1-score   support\n",
            "\n",
            "           0       0.80      0.81      0.81        80\n",
            "           1       0.59      0.58      0.59        38\n",
            "\n",
            "    accuracy                           0.74       118\n",
            "   macro avg       0.70      0.70      0.70       118\n",
            "weighted avg       0.74      0.74      0.74       118\n",
            "\n"
          ]
        }
      ],
      "source": [
        "bestModel.fit(X_train,y_train)\n",
        "y_pred = bestModel.predict(X_test)\n",
        "print(classification_report(y_test,y_pred))"
      ]
    },
    {
      "cell_type": "code",
      "source": [],
      "metadata": {
        "id": "c5MZSN5z8O9h"
      },
      "id": "c5MZSN5z8O9h",
      "execution_count": null,
      "outputs": []
    }
  ],
  "metadata": {
    "kernelspec": {
      "display_name": "Python 3",
      "language": "python",
      "name": "python3"
    },
    "language_info": {
      "codemirror_mode": {
        "name": "ipython",
        "version": 3
      },
      "file_extension": ".py",
      "mimetype": "text/x-python",
      "name": "python",
      "nbconvert_exporter": "python",
      "pygments_lexer": "ipython3",
      "version": "3.7.12"
    },
    "papermill": {
      "default_parameters": {},
      "duration": 25.987466,
      "end_time": "2023-01-21T21:02:23.564851",
      "environment_variables": {},
      "exception": null,
      "input_path": "__notebook__.ipynb",
      "output_path": "__notebook__.ipynb",
      "parameters": {},
      "start_time": "2023-01-21T21:01:57.577385",
      "version": "2.3.4"
    },
    "colab": {
      "provenance": [],
      "include_colab_link": true
    }
  },
  "nbformat": 4,
  "nbformat_minor": 5
}